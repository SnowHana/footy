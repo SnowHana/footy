{
 "cells": [
  {
   "cell_type": "markdown",
   "metadata": {},
   "source": [
    "# Scrape big 5\n",
    "https://fbref.com/en/comps/Big5/stats/players/Big-5-European-Leagues-Stats\n"
   ]
  }
 ],
 "metadata": {
  "language_info": {
   "name": "python"
  }
 },
 "nbformat": 4,
 "nbformat_minor": 2
}
