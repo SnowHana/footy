{
 "cells": [
  {
   "cell_type": "code",
   "execution_count": null,
   "metadata": {},
   "outputs": [],
   "source": []
  },
  {
   "cell_type": "markdown",
   "metadata": {},
   "source": [
    "# Get Data"
   ]
  },
  {
   "cell_type": "code",
   "execution_count": 16,
   "metadata": {},
   "outputs": [],
   "source": [
    "import os\n",
    "from pathlib import Path\n",
    "import pandas as pd"
   ]
  },
  {
   "cell_type": "code",
   "execution_count": 11,
   "metadata": {},
   "outputs": [],
   "source": [
    "\n",
    "# NOTE: This wont work for jupyter so we are using sth else for now\n",
    "# # Get the absolute path of the current script (jupyter dir)\n",
    "# BASE_DIR = Path(__file__).resolve().parent\n",
    "\n",
    "# # Build the path to the data directory\n",
    "# DATA_DIR = BASE_DIR / 'data'\n",
    "BASE_DIR = Path.cwd()\n",
    "\n",
    "# Build the path to the data directory\n",
    "DATA_DIR = BASE_DIR.parents[0] / 'transfer_data' \n",
    "\n",
    "# # Example of using the path to the data directory\n",
    "# csv_file = DATA_DIR / 'your_file.csv'\n",
    "# print(csv_file)"
   ]
  },
  {
   "cell_type": "code",
   "execution_count": 20,
   "metadata": {},
   "outputs": [
    {
     "name": "stdout",
     "output_type": "stream",
     "text": [
      "competitions_df (43, 10)\n",
      "appearances_df (1166215, 13)\n",
      "player_valuations_df (424323, 9)\n",
      "game_events_df (559962, 7)\n",
      "players_df (28459, 23)\n",
      "games_df (61538, 21)\n",
      "club_games_df (123076, 11)\n",
      "clubs_df (411, 16)\n",
      "Data imported\n"
     ]
    }
   ],
   "source": [
    "# import all files in Data folder and read into dataframes\n",
    "dataframes=[]\n",
    "\n",
    "\n",
    "# Below is just to surpress warnings...\n",
    "competitions_df = pd.DataFrame\n",
    "appearances_df = pd.DataFrame\n",
    "player_valuations_df = pd.DataFrame\n",
    "game_events_df = pd.DataFrame\n",
    "players_df= pd.DataFrame\n",
    "games_df = pd.DataFrame\n",
    "club_games_df = pd.DataFrame\n",
    "clubs_df = pd.DataFrame\n",
    "\n",
    "# Actual reading csv flies\n",
    "for dirpath, dirname, filenames in os.walk(DATA_DIR):\n",
    "    for filename in filenames:\n",
    "        file=filename.split('.')\n",
    "        file=((file[0]+\"_df\"))\n",
    "        if file !=\"_df\":\n",
    "            filepath=os.path.join(dirpath,filename)\n",
    "            df=pd.read_csv(filepath,sep=\",\",encoding = \"UTF-8\")\n",
    "            exec(f'{file} = df.copy()')\n",
    "            print(file, df.shape)\n",
    "            dataframes.append(df)\n",
    "print('Data imported')\n",
    "\n"
   ]
  },
  {
   "cell_type": "markdown",
   "metadata": {},
   "source": [
    "# Process data"
   ]
  },
  {
   "cell_type": "code",
   "execution_count": 22,
   "metadata": {},
   "outputs": [
    {
     "data": {
      "text/plain": [
       "player_id                                 int64\n",
       "first_name                               object\n",
       "last_name                                object\n",
       "name                                     object\n",
       "last_season                               int64\n",
       "current_club_id                           int64\n",
       "player_code                              object\n",
       "country_of_birth                         object\n",
       "city_of_birth                            object\n",
       "country_of_citizenship                   object\n",
       "date_of_birth                            object\n",
       "sub_position                             object\n",
       "position                                 object\n",
       "foot                                     object\n",
       "height_in_cm                            float64\n",
       "market_value_in_eur                     float64\n",
       "highest_market_value_in_eur             float64\n",
       "contract_expiration_date                 object\n",
       "agent_name                               object\n",
       "image_url                                object\n",
       "url                                      object\n",
       "current_club_domestic_competition_id     object\n",
       "current_club_name                        object\n",
       "dtype: object"
      ]
     },
     "execution_count": 22,
     "metadata": {},
     "output_type": "execute_result"
    }
   ],
   "source": [
    "players_df.dtypes"
   ]
  },
  {
   "cell_type": "code",
   "execution_count": 24,
   "metadata": {},
   "outputs": [
    {
     "data": {
      "text/plain": [
       "player_id                                        int64\n",
       "first_name                                      object\n",
       "last_name                                       object\n",
       "name                                            object\n",
       "last_season                                      int64\n",
       "current_club_id                                  int64\n",
       "player_code                                     object\n",
       "country_of_birth                                object\n",
       "city_of_birth                                   object\n",
       "country_of_citizenship                          object\n",
       "date_of_birth                           datetime64[ns]\n",
       "sub_position                                    object\n",
       "position                                        object\n",
       "foot                                            object\n",
       "height_in_cm                                   float64\n",
       "market_value_in_eur                            float64\n",
       "highest_market_value_in_eur                    float64\n",
       "contract_expiration_date                        object\n",
       "agent_name                                      object\n",
       "image_url                                       object\n",
       "url                                             object\n",
       "current_club_domestic_competition_id            object\n",
       "current_club_name                               object\n",
       "dtype: object"
      ]
     },
     "execution_count": 24,
     "metadata": {},
     "output_type": "execute_result"
    }
   ],
   "source": [
    "# Calculate the age of each player (object -> datetime)\n",
    "players_df['date_of_birth'] = pd.to_datetime(players_df['date_of_birth']) \n"
   ]
  },
  {
   "cell_type": "code",
   "execution_count": null,
   "metadata": {},
   "outputs": [],
   "source": [
    "# drop players with no date of birth\n",
    "# players_df = players_df[players_df['date_of_birth'].isnull() == False]\n",
    "# now = datetime.now()\n",
    "# players_df['age'] = (now - players_df['date_of_birth']).apply(lambda x: x.days) / 365.25\n",
    "# players_df['age'] = players_df['age'].round().astype(int) \n",
    "\n",
    "# # Calculate the contract remaining of each player\n",
    "# players_df['contract_expiration_date'] = pd.to_datetime(players_df['contract_expiration_date'])\n",
    "# # drop players with no date of birth\n",
    "# players_df = players_df[players_df['contract_expiration_date'].isnull() == False]\n",
    "# now = datetime.now()\n",
    "# players_df['term_days_remaining'] = (players_df['contract_expiration_date']- now).apply(lambda x: x.days) \n",
    "\n",
    "# # add year to player valuations\n",
    "# player_valuations_df['datetime']=pd.to_datetime(player_valuations_df['datetime'], format=\"%Y-%m-%d\")\n",
    "# player_valuations_df['year']=player_valuations_df['datetime'].dt.year\n",
    "\n",
    "# # add year to player appearances\n",
    "# appearances_df['datetime']=pd.to_datetime(appearances_df['date'], format=\"%Y-%m-%d\")\n",
    "# appearances_df['year']=appearances_df['datetime'].dt.year\n",
    "\n",
    "# #add position to player valuations\n",
    "# position_df=players_df.copy()\n",
    "# position_df=position_df.drop(['name', 'current_club_id', 'current_club_name', 'country_of_citizenship', 'country_of_birth', 'city_of_birth', 'date_of_birth', 'foot', 'height_in_cm', 'market_value_in_eur', 'highest_market_value_in_eur', 'agent_name', 'contract_expiration_date', 'current_club_domestic_competition_id', 'first_name', 'last_name', 'player_code', 'image_url', 'last_season', 'url', 'age'], axis=1)\n",
    "# player_valuations_df=player_valuations_df.merge(position_df, left_on='player_id', right_on='player_id')\n",
    "\n",
    "# #add position to appearances\n",
    "# value_df=players_df.copy()\n",
    "# value_df=value_df.drop(['name', 'current_club_id', 'current_club_name', 'country_of_citizenship', 'country_of_birth', 'city_of_birth', 'date_of_birth', 'foot', 'height_in_cm', 'sub_position', 'highest_market_value_in_eur', 'agent_name', 'contract_expiration_date', 'current_club_domestic_competition_id', 'first_name', 'last_name', 'player_code', 'image_url', 'last_season', 'url', 'age'], axis=1)\n",
    "# appearances_df1=value_df.merge(appearances_df, left_on='player_id', right_on='player_id')\n",
    "\n",
    "# print(\"Data processing complete\")"
   ]
  }
 ],
 "metadata": {
  "kernelspec": {
   "display_name": "footy",
   "language": "python",
   "name": "python3"
  },
  "language_info": {
   "codemirror_mode": {
    "name": "ipython",
    "version": 3
   },
   "file_extension": ".py",
   "mimetype": "text/x-python",
   "name": "python",
   "nbconvert_exporter": "python",
   "pygments_lexer": "ipython3",
   "version": "3.12.4"
  }
 },
 "nbformat": 4,
 "nbformat_minor": 2
}
