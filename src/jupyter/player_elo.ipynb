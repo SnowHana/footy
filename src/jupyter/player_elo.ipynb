{
 "cells": [
  {
   "cell_type": "code",
   "execution_count": 1,
   "id": "initial_id",
   "metadata": {
    "collapsed": true,
    "ExecuteTime": {
     "end_time": "2024-10-26T11:34:42.310774Z",
     "start_time": "2024-10-26T11:34:39.558339Z"
    }
   },
   "outputs": [],
   "source": [
    "from pathlib import Path\n",
    "import pandas as pd\n",
    "\n",
    "import os\n",
    "from pathlib import Path\n",
    "import pandas as pd\n",
    "import datetime\n",
    "from datetime import datetime\n",
    "\n",
    "\n",
    "def import_data_from_csv() -> dict:\n",
    "    \"\"\"Read data from csv files (prepared by transfermrkt dataset)\n",
    "\n",
    "    Returns:\n",
    "        list[pd.DataFrame] : list of dataframes (single csv to single dataframe)\n",
    "    \"\"\"\n",
    "\n",
    "    # NOTE: This wont work for jupyter so we are using sth else for now\n",
    "    # # Get the absolute path of the current script (jupyter dir)\n",
    "    # BASE_DIR = Path(__file__).resolve().parent\n",
    "        \n",
    "    # NOTE: Later when we are converting this into an actual python file, comment this line  \n",
    "    # Define the base and data directories\n",
    "    BASE_DIR = Path.cwd()\n",
    "    DATA_DIR = BASE_DIR.parents[0] / \"data\" / \"transfer_data\"\n",
    "    # CLUBS_FILE = \"clubs.csv\"\n",
    "    # ELOS_FILE = \"club_elo_2024-09-21.csv\"\n",
    "    # # Load CSV data\n",
    "    # # fbref_df = pd.read_csv(os.path.join(DATA_DIR, FBREF_FILE), sep=',', encoding='UTF-8')\n",
    "    # clubs_df = pd.read_csv(os.path.join(DATA_DIR, CLUBS_FILE), sep=\",\", encoding=\"UTF-8\")\n",
    "    # elos_df = pd.read_csv(os.path.join(DATA_DIR, ELOS_FILE), sep=\",\", encoding=\"UTF-8\")\n",
    "    # elos_df = elos_df.head(632)  # Restrict the ELO data to the first 632 rows\n",
    "\n",
    "    # # Build the path to the data directory\n",
    "    # DATA_DIR = BASE_DIR / \"transfer_data\"\n",
    "\n",
    "    # BASE_DIR = Path.cwd()\n",
    "\n",
    "    # Build the path to the data directory\n",
    "\n",
    "    # # Example of using the path to the data directory\n",
    "    # csv_file = DATA_DIR / 'your_file.csv'\n",
    "    # print(csv_file)\n",
    "\n",
    "    # import all files in Data folder and read into dataframes\n",
    "    dataframes = {}\n",
    "\n",
    "    \n",
    "\n",
    "    # Actual reading csv flies\n",
    "    for dirpath, dirname, filenames in os.walk(DATA_DIR):\n",
    "        for filename in filenames:\n",
    "            file = filename.split(\".\")\n",
    "            file = file[0] + \"_df\"\n",
    "            if file != \"_df\":\n",
    "                filepath = os.path.join(dirpath, filename)\n",
    "                df = pd.read_csv(filepath, sep=\",\", encoding=\"UTF-8\")\n",
    "                exec(f\"{file} = df.copy()\")\n",
    "                print(file, df.shape)\n",
    "                dataframes[file] = df.copy()\n",
    "    print(\"Data imported\")\n",
    "\n",
    "    return dataframes\n",
    "\n"
   ]
  },
  {
   "cell_type": "code",
   "outputs": [
    {
     "name": "stdout",
     "output_type": "stream",
     "text": [
      "game_lineups_df (2191911, 10)\n",
      "competitions_df (44, 11)\n",
      "appearances_df (1610495, 13)\n",
      "player_valuations_df (486009, 5)\n",
      "game_events_df (761513, 10)\n",
      "transfers_df (77585, 10)\n",
      "players_df (32392, 23)\n",
      "games_df (69635, 23)\n",
      "club_games_df (139270, 11)\n",
      "clubs_df (439, 17)\n",
      "Data imported\n"
     ]
    }
   ],
   "source": [
    "# Below is just to suppress warnings...\n",
    "competitions_df = pd.DataFrame\n",
    "appearances_df = pd.DataFrame\n",
    "player_valuations_df = pd.DataFrame\n",
    "game_events_df = pd.DataFrame\n",
    "players_df = pd.DataFrame\n",
    "games_df = pd.DataFrame\n",
    "club_games_df = pd.DataFrame\n",
    "clubs_df = pd.DataFrame\n",
    "dataframes = import_data_from_csv()\n",
    "\n",
    "for file_name, dataframe in dataframes.items():\n",
    "    exec(f\"{file_name} = dataframe.copy()\")\n",
    "    # print(file_name)\n",
    "    # print(dataframe)"
   ],
   "metadata": {
    "collapsed": false,
    "ExecuteTime": {
     "end_time": "2024-10-26T11:35:14.527996Z",
     "start_time": "2024-10-26T11:34:50.932577Z"
    }
   },
   "id": "b40c583dfea78108",
   "execution_count": 2
  },
  {
   "cell_type": "code",
   "outputs": [],
   "source": [
    "# Clean up player valuations\n",
    "player_valuations_df['date'] = pd.to_datetime(player_valuations_df['date'])\n",
    "player_valuations_df['month_year'] = player_valuations_df['date'].apply(lambda x: f\"08 {x.year}\" if x >= pd.Timestamp(x.year, 7, 1) else f\"08 {x.year-1}\")\n",
    "player_valuations_df['season'] = player_valuations_df['date'].apply(lambda x: f\"{x.year}-{x.year+1}\" if x >= pd.Timestamp(x.year, 7, 1) else f\"{x.year-1}-{x.year}\")\n",
    "player_valuations_df = player_valuations_df.loc[player_valuations_df.groupby(['player_id','season'])['date'].idxmin()] #Get value only at start of season\n",
    "\n"
   ],
   "metadata": {
    "collapsed": false,
    "ExecuteTime": {
     "end_time": "2024-10-26T11:35:22.918449Z",
     "start_time": "2024-10-26T11:35:15.802114Z"
    }
   },
   "id": "a9372e5c30f30744",
   "execution_count": 3
  },
  {
   "cell_type": "code",
   "outputs": [
    {
     "data": {
      "text/plain": "        player_id       date  market_value_in_eur  current_club_id  \\\n4              10 2004-10-04              7000000              398   \n5              26 2004-10-04              1500000               16   \n6              65 2004-10-04              8000000             1091   \n7              77 2004-10-04             13000000              506   \n8              80 2004-10-04               400000               27   \n...           ...        ...                  ...              ...   \n484243    1240762 2024-06-10                50000             2778   \n480539    1247360 2024-06-03                50000             3524   \n485876    1263365 2024-09-12               150000            48332   \n485877    1290268 2024-09-12               150000             6992   \n485878    1302421 2024-09-12               100000             6992   \n\n       player_club_domestic_competition_id month_year     season  \n4                                      IT1    08 2004  2004-2005  \n5                                       L1    08 2004  2004-2005  \n6                                      GR1    08 2004  2004-2005  \n7                                      IT1    08 2004  2004-2005  \n8                                       L1    08 2004  2004-2005  \n...                                    ...        ...        ...  \n484243                                 DK1    08 2023  2023-2024  \n480539                                 FR1    08 2023  2023-2024  \n485876                                UKR1    08 2024  2024-2025  \n485877                                UKR1    08 2024  2024-2025  \n485878                                UKR1    08 2024  2024-2025  \n\n[30782 rows x 7 columns]",
      "text/html": "<div>\n<style scoped>\n    .dataframe tbody tr th:only-of-type {\n        vertical-align: middle;\n    }\n\n    .dataframe tbody tr th {\n        vertical-align: top;\n    }\n\n    .dataframe thead th {\n        text-align: right;\n    }\n</style>\n<table border=\"1\" class=\"dataframe\">\n  <thead>\n    <tr style=\"text-align: right;\">\n      <th></th>\n      <th>player_id</th>\n      <th>date</th>\n      <th>market_value_in_eur</th>\n      <th>current_club_id</th>\n      <th>player_club_domestic_competition_id</th>\n      <th>month_year</th>\n      <th>season</th>\n    </tr>\n  </thead>\n  <tbody>\n    <tr>\n      <th>4</th>\n      <td>10</td>\n      <td>2004-10-04</td>\n      <td>7000000</td>\n      <td>398</td>\n      <td>IT1</td>\n      <td>08 2004</td>\n      <td>2004-2005</td>\n    </tr>\n    <tr>\n      <th>5</th>\n      <td>26</td>\n      <td>2004-10-04</td>\n      <td>1500000</td>\n      <td>16</td>\n      <td>L1</td>\n      <td>08 2004</td>\n      <td>2004-2005</td>\n    </tr>\n    <tr>\n      <th>6</th>\n      <td>65</td>\n      <td>2004-10-04</td>\n      <td>8000000</td>\n      <td>1091</td>\n      <td>GR1</td>\n      <td>08 2004</td>\n      <td>2004-2005</td>\n    </tr>\n    <tr>\n      <th>7</th>\n      <td>77</td>\n      <td>2004-10-04</td>\n      <td>13000000</td>\n      <td>506</td>\n      <td>IT1</td>\n      <td>08 2004</td>\n      <td>2004-2005</td>\n    </tr>\n    <tr>\n      <th>8</th>\n      <td>80</td>\n      <td>2004-10-04</td>\n      <td>400000</td>\n      <td>27</td>\n      <td>L1</td>\n      <td>08 2004</td>\n      <td>2004-2005</td>\n    </tr>\n    <tr>\n      <th>...</th>\n      <td>...</td>\n      <td>...</td>\n      <td>...</td>\n      <td>...</td>\n      <td>...</td>\n      <td>...</td>\n      <td>...</td>\n    </tr>\n    <tr>\n      <th>484243</th>\n      <td>1240762</td>\n      <td>2024-06-10</td>\n      <td>50000</td>\n      <td>2778</td>\n      <td>DK1</td>\n      <td>08 2023</td>\n      <td>2023-2024</td>\n    </tr>\n    <tr>\n      <th>480539</th>\n      <td>1247360</td>\n      <td>2024-06-03</td>\n      <td>50000</td>\n      <td>3524</td>\n      <td>FR1</td>\n      <td>08 2023</td>\n      <td>2023-2024</td>\n    </tr>\n    <tr>\n      <th>485876</th>\n      <td>1263365</td>\n      <td>2024-09-12</td>\n      <td>150000</td>\n      <td>48332</td>\n      <td>UKR1</td>\n      <td>08 2024</td>\n      <td>2024-2025</td>\n    </tr>\n    <tr>\n      <th>485877</th>\n      <td>1290268</td>\n      <td>2024-09-12</td>\n      <td>150000</td>\n      <td>6992</td>\n      <td>UKR1</td>\n      <td>08 2024</td>\n      <td>2024-2025</td>\n    </tr>\n    <tr>\n      <th>485878</th>\n      <td>1302421</td>\n      <td>2024-09-12</td>\n      <td>100000</td>\n      <td>6992</td>\n      <td>UKR1</td>\n      <td>08 2024</td>\n      <td>2024-2025</td>\n    </tr>\n  </tbody>\n</table>\n<p>30782 rows × 7 columns</p>\n</div>"
     },
     "execution_count": 6,
     "metadata": {},
     "output_type": "execute_result"
    }
   ],
   "source": [
    "# From the oldest to most recent, init. player's elo based on market value.\n",
    "df_sorted = player_valuations_df.sort_values(by=['player_id', 'date'])\n",
    "oldest_player_valuations_df = df_sorted.drop_duplicates(subset='player_id', keep='first')\n"
   ],
   "metadata": {
    "collapsed": false,
    "ExecuteTime": {
     "end_time": "2024-10-26T11:38:38.570536Z",
     "start_time": "2024-10-26T11:38:38.448645Z"
    }
   },
   "id": "241bef7363fb7839",
   "execution_count": 6
  },
  {
   "cell_type": "code",
   "outputs": [
    {
     "data": {
      "text/plain": "['1999-2000',\n '2001-2002',\n '2003-2004',\n '2004-2005',\n '2005-2006',\n '2006-2007',\n '2007-2008',\n '2008-2009',\n '2009-2010',\n '2010-2011',\n '2011-2012',\n '2012-2013',\n '2013-2014',\n '2014-2015',\n '2015-2016',\n '2016-2017',\n '2017-2018',\n '2018-2019',\n '2019-2020',\n '2020-2021',\n '2021-2022',\n '2022-2023',\n '2023-2024',\n '2024-2025']"
     },
     "execution_count": 12,
     "metadata": {},
     "output_type": "execute_result"
    }
   ],
   "source": [
    "df = oldest_player_valuations_df.copy()\n",
    "seasons = sorted(oldest_player_valuations_df['season'].unique())\n",
    "seasons"
   ],
   "metadata": {
    "collapsed": false,
    "ExecuteTime": {
     "end_time": "2024-10-26T11:44:55.997563Z",
     "start_time": "2024-10-26T11:44:55.969615Z"
    }
   },
   "id": "6ec65c62f5432873",
   "execution_count": 12
  },
  {
   "cell_type": "code",
   "outputs": [
    {
     "data": {
      "text/plain": "   player_id first_name     last_name                name  last_season  \\\n0         10   Miroslav         Klose      Miroslav Klose         2015   \n1         26      Roman  Weidenfeller  Roman Weidenfeller         2017   \n2         65    Dimitar      Berbatov    Dimitar Berbatov         2015   \n3         77        NaN         Lúcio               Lúcio         2012   \n4         80        Tom        Starke          Tom Starke         2017   \n\n   current_club_id         player_code    country_of_birth city_of_birth  \\\n0              398      miroslav-klose              Poland         Opole   \n1               16  roman-weidenfeller             Germany          Diez   \n2             1091    dimitar-berbatov            Bulgaria   Blagoevgrad   \n3              506               lucio              Brazil      Brasília   \n4               27          tom-starke  East Germany (GDR)       Freital   \n\n  country_of_citizenship  ...   foot height_in_cm contract_expiration_date  \\\n0                Germany  ...  right        184.0                      NaN   \n1                Germany  ...   left        190.0                      NaN   \n2               Bulgaria  ...    NaN          NaN                      NaN   \n3                 Brazil  ...    NaN          NaN                      NaN   \n4                Germany  ...  right        194.0                      NaN   \n\n             agent_name                                          image_url  \\\n0  ASBW Sport Marketing  https://img.a.transfermarkt.technology/portrai...   \n1      Neubauer 13 GmbH  https://img.a.transfermarkt.technology/portrai...   \n2       CSKA-AS-23 Ltd.  https://img.a.transfermarkt.technology/portrai...   \n3                   NaN  https://img.a.transfermarkt.technology/portrai...   \n4                   IFM  https://img.a.transfermarkt.technology/portrai...   \n\n                                                 url  \\\n0  https://www.transfermarkt.co.uk/miroslav-klose...   \n1  https://www.transfermarkt.co.uk/roman-weidenfe...   \n2  https://www.transfermarkt.co.uk/dimitar-berbat...   \n3  https://www.transfermarkt.co.uk/lucio/profil/s...   \n4  https://www.transfermarkt.co.uk/tom-starke/pro...   \n\n  current_club_domestic_competition_id  \\\n0                                  IT1   \n1                                   L1   \n2                                  GR1   \n3                                  IT1   \n4                                   L1   \n\n                                   current_club_name market_value_in_eur  \\\n0                      Società Sportiva Lazio S.p.A.           1000000.0   \n1                                  Borussia Dortmund            750000.0   \n2  Panthessalonikios Athlitikos Omilos Konstantin...           1000000.0   \n3                             Juventus Football Club            200000.0   \n4                                  FC Bayern München            100000.0   \n\n  highest_market_value_in_eur  \n0                  30000000.0  \n1                   8000000.0  \n2                  34500000.0  \n3                  24500000.0  \n4                   3000000.0  \n\n[5 rows x 23 columns]",
      "text/html": "<div>\n<style scoped>\n    .dataframe tbody tr th:only-of-type {\n        vertical-align: middle;\n    }\n\n    .dataframe tbody tr th {\n        vertical-align: top;\n    }\n\n    .dataframe thead th {\n        text-align: right;\n    }\n</style>\n<table border=\"1\" class=\"dataframe\">\n  <thead>\n    <tr style=\"text-align: right;\">\n      <th></th>\n      <th>player_id</th>\n      <th>first_name</th>\n      <th>last_name</th>\n      <th>name</th>\n      <th>last_season</th>\n      <th>current_club_id</th>\n      <th>player_code</th>\n      <th>country_of_birth</th>\n      <th>city_of_birth</th>\n      <th>country_of_citizenship</th>\n      <th>...</th>\n      <th>foot</th>\n      <th>height_in_cm</th>\n      <th>contract_expiration_date</th>\n      <th>agent_name</th>\n      <th>image_url</th>\n      <th>url</th>\n      <th>current_club_domestic_competition_id</th>\n      <th>current_club_name</th>\n      <th>market_value_in_eur</th>\n      <th>highest_market_value_in_eur</th>\n    </tr>\n  </thead>\n  <tbody>\n    <tr>\n      <th>0</th>\n      <td>10</td>\n      <td>Miroslav</td>\n      <td>Klose</td>\n      <td>Miroslav Klose</td>\n      <td>2015</td>\n      <td>398</td>\n      <td>miroslav-klose</td>\n      <td>Poland</td>\n      <td>Opole</td>\n      <td>Germany</td>\n      <td>...</td>\n      <td>right</td>\n      <td>184.0</td>\n      <td>NaN</td>\n      <td>ASBW Sport Marketing</td>\n      <td>https://img.a.transfermarkt.technology/portrai...</td>\n      <td>https://www.transfermarkt.co.uk/miroslav-klose...</td>\n      <td>IT1</td>\n      <td>Società Sportiva Lazio S.p.A.</td>\n      <td>1000000.0</td>\n      <td>30000000.0</td>\n    </tr>\n    <tr>\n      <th>1</th>\n      <td>26</td>\n      <td>Roman</td>\n      <td>Weidenfeller</td>\n      <td>Roman Weidenfeller</td>\n      <td>2017</td>\n      <td>16</td>\n      <td>roman-weidenfeller</td>\n      <td>Germany</td>\n      <td>Diez</td>\n      <td>Germany</td>\n      <td>...</td>\n      <td>left</td>\n      <td>190.0</td>\n      <td>NaN</td>\n      <td>Neubauer 13 GmbH</td>\n      <td>https://img.a.transfermarkt.technology/portrai...</td>\n      <td>https://www.transfermarkt.co.uk/roman-weidenfe...</td>\n      <td>L1</td>\n      <td>Borussia Dortmund</td>\n      <td>750000.0</td>\n      <td>8000000.0</td>\n    </tr>\n    <tr>\n      <th>2</th>\n      <td>65</td>\n      <td>Dimitar</td>\n      <td>Berbatov</td>\n      <td>Dimitar Berbatov</td>\n      <td>2015</td>\n      <td>1091</td>\n      <td>dimitar-berbatov</td>\n      <td>Bulgaria</td>\n      <td>Blagoevgrad</td>\n      <td>Bulgaria</td>\n      <td>...</td>\n      <td>NaN</td>\n      <td>NaN</td>\n      <td>NaN</td>\n      <td>CSKA-AS-23 Ltd.</td>\n      <td>https://img.a.transfermarkt.technology/portrai...</td>\n      <td>https://www.transfermarkt.co.uk/dimitar-berbat...</td>\n      <td>GR1</td>\n      <td>Panthessalonikios Athlitikos Omilos Konstantin...</td>\n      <td>1000000.0</td>\n      <td>34500000.0</td>\n    </tr>\n    <tr>\n      <th>3</th>\n      <td>77</td>\n      <td>NaN</td>\n      <td>Lúcio</td>\n      <td>Lúcio</td>\n      <td>2012</td>\n      <td>506</td>\n      <td>lucio</td>\n      <td>Brazil</td>\n      <td>Brasília</td>\n      <td>Brazil</td>\n      <td>...</td>\n      <td>NaN</td>\n      <td>NaN</td>\n      <td>NaN</td>\n      <td>NaN</td>\n      <td>https://img.a.transfermarkt.technology/portrai...</td>\n      <td>https://www.transfermarkt.co.uk/lucio/profil/s...</td>\n      <td>IT1</td>\n      <td>Juventus Football Club</td>\n      <td>200000.0</td>\n      <td>24500000.0</td>\n    </tr>\n    <tr>\n      <th>4</th>\n      <td>80</td>\n      <td>Tom</td>\n      <td>Starke</td>\n      <td>Tom Starke</td>\n      <td>2017</td>\n      <td>27</td>\n      <td>tom-starke</td>\n      <td>East Germany (GDR)</td>\n      <td>Freital</td>\n      <td>Germany</td>\n      <td>...</td>\n      <td>right</td>\n      <td>194.0</td>\n      <td>NaN</td>\n      <td>IFM</td>\n      <td>https://img.a.transfermarkt.technology/portrai...</td>\n      <td>https://www.transfermarkt.co.uk/tom-starke/pro...</td>\n      <td>L1</td>\n      <td>FC Bayern München</td>\n      <td>100000.0</td>\n      <td>3000000.0</td>\n    </tr>\n  </tbody>\n</table>\n<p>5 rows × 23 columns</p>\n</div>"
     },
     "execution_count": 13,
     "metadata": {},
     "output_type": "execute_result"
    }
   ],
   "source": [
    "players_df.head()"
   ],
   "metadata": {
    "collapsed": false,
    "ExecuteTime": {
     "end_time": "2024-10-26T11:47:01.336526Z",
     "start_time": "2024-10-26T11:47:01.262829Z"
    }
   },
   "id": "74fbc732d6dae669",
   "execution_count": 13
  },
  {
   "cell_type": "code",
   "outputs": [],
   "source": [
    "# df = players_df.copy()\n",
    "# for index, row in df.iterrows():\n",
    "#     df['elo'] = \n",
    "\n"
   ],
   "metadata": {
    "collapsed": false
   },
   "id": "236073d61a61085"
  },
  {
   "cell_type": "code",
   "outputs": [],
   "source": [
    "def sort_df_by_date(df: pd.DataFrame) -> pd.DataFrame:\n",
    "    \"\"\"Sort dataframe by date\n",
    "    It handles changing the date to datetime format as well\n",
    "\n",
    "    Args:\n",
    "        df (pd.DataFrame): Assume club_games_df have \"date\"\n",
    "\n",
    "    Returns:\n",
    "        pd.DataFrame: _description_\n",
    "    \"\"\"\n",
    "\n",
    "    # NOTE: This is why it might fail? Chagne to index or columns if this fails\n",
    "    if \"date\" not in df.columns:\n",
    "        raise ValueError(\"The 'date' column does not exist in the DataFrame.\")\n",
    "\n",
    "    df[\"date\"] = df[\"date\"].str.strip()\n",
    "    df[\"date\"] = pd.to_datetime(df[\"date\"], errors=\"coerce\", format=\"%Y-%m-%d\")\n",
    "    df.dropna(subset=[\"date\"], inplace=True)\n",
    "    # Sort by date\n",
    "    df = df.sort_values(by=[\"date\"])\n",
    "\n",
    "    return df\n"
   ],
   "metadata": {
    "collapsed": false,
    "ExecuteTime": {
     "end_time": "2024-10-24T13:04:46.362143Z",
     "start_time": "2024-10-24T13:04:46.349866Z"
    }
   },
   "id": "80ecf4076ef0433f",
   "execution_count": 9
  },
  {
   "cell_type": "code",
   "outputs": [],
   "source": [
    "# \n",
    "# \n",
    "# def sort_games_by_date(df: pd.DataFrame) -> pd.DataFrame:\n",
    "#     \"\"\"Sort club_games_df by date\n",
    "#     It handles changing the date to datetime format as well\n",
    "# \n",
    "#     Args:\n",
    "#         club_games_df (pd.DataFrame): Assume club_games_df have \"date\"\n",
    "# \n",
    "#     Returns:\n",
    "#         pd.DataFrame: _description_\n",
    "#     \"\"\"\n",
    "# \n",
    "#     # NOTE: This is why it might fail? Chagne to index or columns if this fails\n",
    "#     if \"date\" not in df.columns:\n",
    "#         raise ValueError(\"The 'date' column does not exist in the DataFrame.\")\n",
    "# \n",
    "#     df[\"date\"] = df[\"date\"].str.strip()\n",
    "#     df[\"date\"] = pd.to_datetime(df[\"date\"], errors=\"coerce\", format=\"%Y-%m-%d\")\n",
    "#     df.dropna(subset=[\"date\"], inplace=True)\n",
    "#     # Sort by date\n",
    "#     df = df.sort_values(by=[\"date\"])\n",
    "# \n",
    "#     return df\n",
    "# \n",
    "# \n",
    "# def expected_chance_of_success(home_team_elo, away_team_elo) -> int:\n",
    "#     \"\"\"Calculate chance of success E_home\n",
    "# \n",
    "#     Args:\n",
    "#         home_team_elo (int): _description_\n",
    "#         away_team_elo (int): _description_\n",
    "# \n",
    "#     Returns:\n",
    "#         int : Expected chance of home team winning\n",
    "#     \"\"\"\n",
    "#     return 1 / (1 + 10 ** ((away_team_elo - home_team_elo) / 400))\n",
    "# \n",
    "# \n",
    "# # def decide_K_value(game: pd.Series):\n",
    "# #     \"\"\"Decide K value based on league or etc?\n",
    "# \n",
    "# #     Args:\n",
    "# #         game (pd.Series): _description_\n",
    "# #     \"\"\"\n",
    "# \n",
    "# \n",
    "# def calculate_new_elo(clubs_df: pd.DataFrame, game: pd.Series, K=30):\n",
    "#     \"\"\"Calculate new elo\n",
    "# \n",
    "#     Args:\n",
    "#         home_team_elo (_type_): _description_\n",
    "#         away_team_elo (_type_): _description_\n",
    "#         result (_type_): result (should be 1, 0, -1)\n",
    "#         K (int, optional): _description_. Defaults to 30.\n",
    "# \n",
    "#     Returns:\n",
    "#         tuple (int, int): new elos of home and away team\n",
    "#     \"\"\"\n",
    "#     result = game[\"is_win\"]\n",
    "# \n",
    "#     if result not in [-1, 0, 1]:\n",
    "#         raise AssertionError(\"Invalid result value passed!\")\n",
    "# \n",
    "#     home_club_id = game[\"home_club_id\"]\n",
    "#     away_club_id = game[\"away_club_id\"]\n",
    "# \n",
    "#     home_club_elo = clubs_df.loc[clubs_df[\"club_id\"] == home_club_id, \"elo\"].values[0]\n",
    "#     away_club_elo = clubs_df.loc[clubs_df[\"club_id\"] == away_club_id, \"elo\"].values[0]\n",
    "# \n",
    "#     expected_home_team = expected_chance_of_success(home_club_elo, away_club_elo)\n",
    "#     expected_away_team = 1 - expected_home_team\n",
    "# \n",
    "#     new_home_elo = home_club_elo + K * (result - expected_home_team)\n",
    "#     new_away_elo = away_club_elo + K * ((1 - result) - expected_away_team)\n",
    "# \n",
    "#     return new_home_elo, new_away_elo\n",
    "# \n",
    "# \n",
    "# def clean_games_df(games_df: pd.DataFrame, clubs_df: pd.DataFrame) -> pd.DataFrame:\n",
    "#     \"\"\"Clean games_df so that it only contains games between clubs that\n",
    "#     exists in clubs_df\n",
    "# \n",
    "#     Args:\n",
    "#         games_df (pd.DataFrame): _description_\n",
    "#         clubs_df (pd.DataFrame): _description_\n",
    "# \n",
    "#     Returns:\n",
    "#         pd.DataFrame: _description_\n",
    "#     \"\"\"\n",
    "# \n",
    "#     # Clean games_df so that it only contains games that have valid club id (ie. Clubs in our club_df)\n",
    "#     home_exists = games_df[\"home_club_id\"].isin(clubs_df[\"club_id\"])\n",
    "#     away_exists = games_df[\"away_club_id\"].isin(clubs_df[\"club_id\"])\n",
    "#     cleaned_games_df = games_df[home_exists & away_exists]\n",
    "# \n",
    "#     return cleaned_games_df\n",
    "# \n",
    "# \n",
    "# def calculate_clubs_elo_single_match(clubs_df: pd.DataFrame, row):\n",
    "# \n",
    "#     home_club_id = row[\"home_club_id\"]\n",
    "#     away_club_id = row[\"away_club_id\"]\n",
    "# \n",
    "#     # Get current ELOs for home and away clubs from clubs_df\n",
    "#     home_elo = clubs_df.loc[clubs_df[\"club_id\"] == home_club_id, \"elo\"].values[0]\n",
    "#     away_elo = clubs_df.loc[clubs_df[\"club_id\"] == away_club_id, \"elo\"].values[0]\n",
    "# \n",
    "#     # Get result for the game (assuming 1 for home win, 0 for away win, 0.5 for draw)\n",
    "#     game_result = row[\"is_win\"]  # Adjust this based on your game logic\n",
    "# \n",
    "#     # Update ELOs based on the result\n",
    "#     new_home_elo, new_away_elo = calculate_new_elo(row)\n",
    "# \n",
    "#     clubs_df.loc[clubs_df[\"club_id\"] == home_club_id, \"elo\"] = new_home_elo\n",
    "#     clubs_df.loc[clubs_df[\"club_id\"] == away_club_id, \"elo\"] = new_away_elo\n",
    "# \n",
    "#     return clubs_df\n",
    "# \n",
    "# \n",
    "# def calculate_clubs_elo():\n",
    "#     \"\"\"\n",
    "#     Basically calculates clubs elo from scratch\n",
    "# \n",
    "#     1. Read csv files (from transfermrkt dataset) to create a dictionary of DataFrames\n",
    "#     2. Clean games and filter them by date\n",
    "#     3. Calculate ELO using very basic ELO\n",
    "# \n",
    "#     Returns:\n",
    "#         pd.DataFrame : clubs_df with updated club ELO\n",
    "#     \"\"\"\n",
    "# \n",
    "#     # Import data\n",
    "#     dataframes = import_data_from_csv()\n",
    "#     games_df = dataframes[\"games_df\"]\n",
    "#     clubs_df = dataframes[\"clubs_df\"]\n",
    "#     club_games_df = dataframes[\"club_games_df\"]\n",
    "# \n",
    "#     cleaned_games_df = clean_games_df(games_df, clubs_df)\n",
    "# \n",
    "#     # Merge\n",
    "#     club_games_merged_df = pd.merge(\n",
    "#         cleaned_games_df, club_games_df, on=\"game_id\", how=\"inner\"\n",
    "#     )\n",
    "#     \n",
    "#     club_games_merged_df.to_csv('club_games_merged.csv')\n",
    "# \n",
    "#     # Now, we will sort by date (Oldest to Latest)\n",
    "#     # To calculate and update ELO by time\n",
    "#     # Change data type to datetime format\n",
    "#     club_games_merged_df = sort_games_by_date(club_games_merged_df)\n",
    "# \n",
    "#     # Initialise club elos\n",
    "#     # NOTE: Here we are using 1500, but better init. can be done like considering team market value\n",
    "#     # or level of league they are playing for etc\n",
    "#     clubs_df[\"elo\"] = 1500\n",
    "#     # Ensure the 'elo' column is of type float\n",
    "#     clubs_df[\"elo\"] = clubs_df[\"elo\"].astype(float)\n",
    "#     test_games_df = club_games_merged_df.head(5000)\n",
    "# \n",
    "#     update_counter = 0\n",
    "#     for idx, row in test_games_df.iterrows():\n",
    "#         # home_club_id = row[\"home_club_id\"]\n",
    "#         # away_club_id = row[\"away_club_id\"]\n",
    "# \n",
    "#         # # Get current ELOs for home and away clubs from clubs_df\n",
    "#         # home_elo = clubs_df.loc[clubs_df[\"club_id\"] == home_club_id, \"elo\"].values[0]\n",
    "#         # away_elo = clubs_df.loc[clubs_df[\"club_id\"] == away_club_id, \"elo\"].values[0]\n",
    "# \n",
    "#         # # Get result for the game (assuming 1 for home win, 0 for away win, 0.5 for draw)\n",
    "#         # game_result = row[\"is_win\"]  # Adjust this based on your game logic\n",
    "# \n",
    "#         # # Update ELOs based on the result\n",
    "#         # new_home_elo, new_away_elo = calculate_new_elo(home_elo, away_elo, game_result)\n",
    "# \n",
    "#         # clubs_df.loc[clubs_df[\"club_id\"] == home_club_id, \"elo\"] = new_home_elo\n",
    "#         # clubs_df.loc[clubs_df[\"club_id\"] == away_club_id, \"elo\"] = new_away_elo\n",
    "#         clubs_df = calculate_clubs_elo_single_match(clubs_df, row)\n",
    "# \n",
    "#         update_counter += 1\n",
    "# \n",
    "#     print(f\"ELO was {update_counter} times updated\")\n",
    "# \n",
    "#     clubs_df.to_csv(\"club_elos.csv\")\n",
    "#     return clubs_df\n",
    "# \n",
    "# \n",
    "# df = calculate_clubs_elo()\n",
    "# print(df.head())\n",
    "# print(df.tail())"
   ],
   "metadata": {
    "collapsed": false
   },
   "id": "b111f3089be5ba9a"
  }
 ],
 "metadata": {
  "kernelspec": {
   "display_name": "Python 3",
   "language": "python",
   "name": "python3"
  },
  "language_info": {
   "codemirror_mode": {
    "name": "ipython",
    "version": 2
   },
   "file_extension": ".py",
   "mimetype": "text/x-python",
   "name": "python",
   "nbconvert_exporter": "python",
   "pygments_lexer": "ipython2",
   "version": "2.7.6"
  }
 },
 "nbformat": 4,
 "nbformat_minor": 5
}
