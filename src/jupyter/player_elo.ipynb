{
 "cells": [
  {
   "cell_type": "code",
   "execution_count": 1,
   "id": "initial_id",
   "metadata": {
    "collapsed": true,
    "ExecuteTime": {
     "end_time": "2024-10-27T05:33:18.262326Z",
     "start_time": "2024-10-27T05:33:17.182797Z"
    }
   },
   "outputs": [],
   "source": [
    "from pathlib import Path\n",
    "import pandas as pd\n",
    "\n",
    "import os\n",
    "from pathlib import Path\n",
    "import pandas as pd\n",
    "import datetime\n",
    "from datetime import datetime\n",
    "\n",
    "\n",
    "def import_data_from_csv() -> dict:\n",
    "    \"\"\"Read data from csv files (prepared by transfermrkt dataset)\n",
    "\n",
    "    Returns:\n",
    "        list[pd.DataFrame] : list of dataframes (single csv to single dataframe)\n",
    "    \"\"\"\n",
    "\n",
    "    # NOTE: This wont work for jupyter so we are using sth else for now\n",
    "    # # Get the absolute path of the current script (jupyter dir)\n",
    "    # BASE_DIR = Path(__file__).resolve().parent\n",
    "        \n",
    "    # NOTE: Later when we are converting this into an actual python file, comment this line  \n",
    "    # Define the base and data directories\n",
    "    BASE_DIR = Path.cwd()\n",
    "    DATA_DIR = BASE_DIR.parents[0] / \"data\" / \"transfer_data\"\n",
    "    # CLUBS_FILE = \"clubs.csv\"\n",
    "    # ELOS_FILE = \"club_elo_2024-09-21.csv\"\n",
    "    # # Load CSV data\n",
    "    # # fbref_df = pd.read_csv(os.path.join(DATA_DIR, FBREF_FILE), sep=',', encoding='UTF-8')\n",
    "    # clubs_df = pd.read_csv(os.path.join(DATA_DIR, CLUBS_FILE), sep=\",\", encoding=\"UTF-8\")\n",
    "    # elos_df = pd.read_csv(os.path.join(DATA_DIR, ELOS_FILE), sep=\",\", encoding=\"UTF-8\")\n",
    "    # elos_df = elos_df.head(632)  # Restrict the ELO data to the first 632 rows\n",
    "\n",
    "    # # Build the path to the data directory\n",
    "    # DATA_DIR = BASE_DIR / \"transfer_data\"\n",
    "\n",
    "    # BASE_DIR = Path.cwd()\n",
    "\n",
    "    # Build the path to the data directory\n",
    "\n",
    "    # # Example of using the path to the data directory\n",
    "    # csv_file = DATA_DIR / 'your_file.csv'\n",
    "    # print(csv_file)\n",
    "\n",
    "    # import all files in Data folder and read into dataframes\n",
    "    dataframes = {}\n",
    "\n",
    "    \n",
    "\n",
    "    # Actual reading csv flies\n",
    "    for dirpath, dirname, filenames in os.walk(DATA_DIR):\n",
    "        for filename in filenames:\n",
    "            file = filename.split(\".\")\n",
    "            file = file[0] + \"_df\"\n",
    "            if file != \"_df\":\n",
    "                filepath = os.path.join(dirpath, filename)\n",
    "                df = pd.read_csv(filepath, sep=\",\", encoding=\"UTF-8\")\n",
    "                exec(f\"{file} = df.copy()\")\n",
    "                print(file, df.shape)\n",
    "                dataframes[file] = df.copy()\n",
    "    print(\"Data imported\")\n",
    "\n",
    "    return dataframes\n",
    "\n"
   ]
  },
  {
   "cell_type": "code",
   "outputs": [
    {
     "name": "stdout",
     "output_type": "stream",
     "text": [
      "game_lineups_df (2191911, 10)\n",
      "competitions_df (44, 11)\n",
      "appearances_df (1610495, 13)\n",
      "player_valuations_df (486009, 5)\n",
      "game_events_df (761513, 10)\n",
      "transfers_df (77585, 10)\n",
      "players_df (32392, 23)\n",
      "games_df (69635, 23)\n",
      "club_games_df (139270, 11)\n",
      "clubs_df (439, 17)\n",
      "Data imported\n"
     ]
    }
   ],
   "source": [
    "# Below is just to suppress warnings...\n",
    "competitions_df = pd.DataFrame\n",
    "appearances_df = pd.DataFrame\n",
    "player_valuations_df = pd.DataFrame\n",
    "game_events_df = pd.DataFrame\n",
    "players_df = pd.DataFrame\n",
    "games_df = pd.DataFrame\n",
    "club_games_df = pd.DataFrame\n",
    "clubs_df = pd.DataFrame\n",
    "dataframes = import_data_from_csv()\n",
    "\n",
    "for file_name, dataframe in dataframes.items():\n",
    "    exec(f\"{file_name} = dataframe.copy()\")\n",
    "    # print(file_name)\n",
    "    # print(dataframe)"
   ],
   "metadata": {
    "collapsed": false,
    "ExecuteTime": {
     "end_time": "2024-10-27T05:33:48.571472Z",
     "start_time": "2024-10-27T05:33:31.486819Z"
    }
   },
   "id": "b40c583dfea78108",
   "execution_count": 2
  },
  {
   "cell_type": "code",
   "outputs": [],
   "source": [
    "def add_season_column(df: pd.DataFrame) -> pd.DataFrame:\n",
    "    \"\"\"\n",
    "    Clean up date to datetime datatype\n",
    "    Add month_year, season column based on date\n",
    "    @param df: \n",
    "    @return: \n",
    "    \"\"\"\n",
    "    # Clean up player valuations\n",
    "    df_copy = df.copy()\n",
    "    df_copy['date'] = pd.to_datetime(df_copy['date'])\n",
    "    df_copy['month_year'] = df_copy['date'].apply(lambda x: f\"08 {x.year}\" if x >= pd.Timestamp(x.year, 7, 1)\\\n",
    "        else f\"08 {x.year-1}\")\n",
    "    df_copy['season'] = df_copy['date'].apply(lambda x: f\"{x.year}-{x.year+1}\" if x >= pd.Timestamp(x.year, 7, 1) \\\n",
    "        else f\"{x.year-1}-{x.year}\")\n",
    "    # df_copy = df_copy.loc[df_copy.groupby(['season'])['date'].idxmin()] #Get value only at start of season\n",
    "    return df_copy\n",
    "    "
   ],
   "metadata": {
    "collapsed": false,
    "ExecuteTime": {
     "end_time": "2024-10-27T05:45:51.677413Z",
     "start_time": "2024-10-27T05:45:51.671464Z"
    }
   },
   "id": "4f4f02cddce4068",
   "execution_count": 12
  },
  {
   "cell_type": "code",
   "outputs": [
    {
     "data": {
      "text/plain": "       player_id       date  market_value_in_eur  current_club_id  \\\n4             10 2004-10-04              7000000              398   \n4017          10 2005-09-30             15000000              398   \n6254          10 2006-07-15             30000000              398   \n16465         10 2008-06-04             20000000              398   \n26702         10 2009-06-10             18000000              398   \n\n      player_club_domestic_competition_id month_year     season  \n4                                     IT1    08 2004  2004-2005  \n4017                                  IT1    08 2005  2005-2006  \n6254                                  IT1    08 2006  2006-2007  \n16465                                 IT1    08 2007  2007-2008  \n26702                                 IT1    08 2008  2008-2009  ",
      "text/html": "<div>\n<style scoped>\n    .dataframe tbody tr th:only-of-type {\n        vertical-align: middle;\n    }\n\n    .dataframe tbody tr th {\n        vertical-align: top;\n    }\n\n    .dataframe thead th {\n        text-align: right;\n    }\n</style>\n<table border=\"1\" class=\"dataframe\">\n  <thead>\n    <tr style=\"text-align: right;\">\n      <th></th>\n      <th>player_id</th>\n      <th>date</th>\n      <th>market_value_in_eur</th>\n      <th>current_club_id</th>\n      <th>player_club_domestic_competition_id</th>\n      <th>month_year</th>\n      <th>season</th>\n    </tr>\n  </thead>\n  <tbody>\n    <tr>\n      <th>4</th>\n      <td>10</td>\n      <td>2004-10-04</td>\n      <td>7000000</td>\n      <td>398</td>\n      <td>IT1</td>\n      <td>08 2004</td>\n      <td>2004-2005</td>\n    </tr>\n    <tr>\n      <th>4017</th>\n      <td>10</td>\n      <td>2005-09-30</td>\n      <td>15000000</td>\n      <td>398</td>\n      <td>IT1</td>\n      <td>08 2005</td>\n      <td>2005-2006</td>\n    </tr>\n    <tr>\n      <th>6254</th>\n      <td>10</td>\n      <td>2006-07-15</td>\n      <td>30000000</td>\n      <td>398</td>\n      <td>IT1</td>\n      <td>08 2006</td>\n      <td>2006-2007</td>\n    </tr>\n    <tr>\n      <th>16465</th>\n      <td>10</td>\n      <td>2008-06-04</td>\n      <td>20000000</td>\n      <td>398</td>\n      <td>IT1</td>\n      <td>08 2007</td>\n      <td>2007-2008</td>\n    </tr>\n    <tr>\n      <th>26702</th>\n      <td>10</td>\n      <td>2009-06-10</td>\n      <td>18000000</td>\n      <td>398</td>\n      <td>IT1</td>\n      <td>08 2008</td>\n      <td>2008-2009</td>\n    </tr>\n  </tbody>\n</table>\n</div>"
     },
     "execution_count": 13,
     "metadata": {},
     "output_type": "execute_result"
    }
   ],
   "source": [
    "# Clean up player valuations\n",
    "# player_valuations_df['date'] = pd.to_datetime(player_valuations_df['date'])\n",
    "# player_valuations_df['month_year'] = player_valuations_df['date'].apply(lambda x: f\"08 {x.year}\" \\\n",
    "#     if x >= pd.Timestamp(x.year, 7, 1) else f\"08 {x.year-1}\")\n",
    "# player_valuations_df['season'] = player_valuations_df['date'].apply(lambda x: f\"{x.year}-{x.year+1}\" \\\n",
    "#     if x >= pd.Timestamp(x.year, 7, 1) else f\"{x.year-1}-{x.year}\")\n",
    "# player_valuations_df = player_valuations_df.loc[player_valuations_df.groupby(['player_id','season'])['date'].idxmin()] #Get value only at start of season\n",
    "df_sorted = add_season_column(player_valuations_df)\n",
    "df_sorted = df_sorted.loc[df_sorted.groupby(['player_id','season'])['date'].idxmin()] #Get value only at start of season\n",
    "df_sorted.head()"
   ],
   "metadata": {
    "collapsed": false,
    "ExecuteTime": {
     "end_time": "2024-10-27T05:45:58.986161Z",
     "start_time": "2024-10-27T05:45:56.106674Z"
    }
   },
   "id": "a9372e5c30f30744",
   "execution_count": 13
  },
  {
   "cell_type": "code",
   "outputs": [
    {
     "data": {
      "text/plain": "        player_id       date  market_value_in_eur  current_club_id  \\\n4              10 2004-10-04              7000000              398   \n4017           10 2005-09-30             15000000              398   \n6254           10 2006-07-15             30000000              398   \n16465          10 2008-06-04             20000000              398   \n26702          10 2009-06-10             18000000              398   \n...           ...        ...                  ...              ...   \n484243    1240762 2024-06-10                50000             2778   \n480539    1247360 2024-06-03                50000             3524   \n485876    1263365 2024-09-12               150000            48332   \n485877    1290268 2024-09-12               150000             6992   \n485878    1302421 2024-09-12               100000             6992   \n\n       player_club_domestic_competition_id month_year     season  \n4                                      IT1    08 2004  2004-2005  \n4017                                   IT1    08 2005  2005-2006  \n6254                                   IT1    08 2006  2006-2007  \n16465                                  IT1    08 2007  2007-2008  \n26702                                  IT1    08 2008  2008-2009  \n...                                    ...        ...        ...  \n484243                                 DK1    08 2023  2023-2024  \n480539                                 FR1    08 2023  2023-2024  \n485876                                UKR1    08 2024  2024-2025  \n485877                                UKR1    08 2024  2024-2025  \n485878                                UKR1    08 2024  2024-2025  \n\n[131100 rows x 7 columns]",
      "text/html": "<div>\n<style scoped>\n    .dataframe tbody tr th:only-of-type {\n        vertical-align: middle;\n    }\n\n    .dataframe tbody tr th {\n        vertical-align: top;\n    }\n\n    .dataframe thead th {\n        text-align: right;\n    }\n</style>\n<table border=\"1\" class=\"dataframe\">\n  <thead>\n    <tr style=\"text-align: right;\">\n      <th></th>\n      <th>player_id</th>\n      <th>date</th>\n      <th>market_value_in_eur</th>\n      <th>current_club_id</th>\n      <th>player_club_domestic_competition_id</th>\n      <th>month_year</th>\n      <th>season</th>\n    </tr>\n  </thead>\n  <tbody>\n    <tr>\n      <th>4</th>\n      <td>10</td>\n      <td>2004-10-04</td>\n      <td>7000000</td>\n      <td>398</td>\n      <td>IT1</td>\n      <td>08 2004</td>\n      <td>2004-2005</td>\n    </tr>\n    <tr>\n      <th>4017</th>\n      <td>10</td>\n      <td>2005-09-30</td>\n      <td>15000000</td>\n      <td>398</td>\n      <td>IT1</td>\n      <td>08 2005</td>\n      <td>2005-2006</td>\n    </tr>\n    <tr>\n      <th>6254</th>\n      <td>10</td>\n      <td>2006-07-15</td>\n      <td>30000000</td>\n      <td>398</td>\n      <td>IT1</td>\n      <td>08 2006</td>\n      <td>2006-2007</td>\n    </tr>\n    <tr>\n      <th>16465</th>\n      <td>10</td>\n      <td>2008-06-04</td>\n      <td>20000000</td>\n      <td>398</td>\n      <td>IT1</td>\n      <td>08 2007</td>\n      <td>2007-2008</td>\n    </tr>\n    <tr>\n      <th>26702</th>\n      <td>10</td>\n      <td>2009-06-10</td>\n      <td>18000000</td>\n      <td>398</td>\n      <td>IT1</td>\n      <td>08 2008</td>\n      <td>2008-2009</td>\n    </tr>\n    <tr>\n      <th>...</th>\n      <td>...</td>\n      <td>...</td>\n      <td>...</td>\n      <td>...</td>\n      <td>...</td>\n      <td>...</td>\n      <td>...</td>\n    </tr>\n    <tr>\n      <th>484243</th>\n      <td>1240762</td>\n      <td>2024-06-10</td>\n      <td>50000</td>\n      <td>2778</td>\n      <td>DK1</td>\n      <td>08 2023</td>\n      <td>2023-2024</td>\n    </tr>\n    <tr>\n      <th>480539</th>\n      <td>1247360</td>\n      <td>2024-06-03</td>\n      <td>50000</td>\n      <td>3524</td>\n      <td>FR1</td>\n      <td>08 2023</td>\n      <td>2023-2024</td>\n    </tr>\n    <tr>\n      <th>485876</th>\n      <td>1263365</td>\n      <td>2024-09-12</td>\n      <td>150000</td>\n      <td>48332</td>\n      <td>UKR1</td>\n      <td>08 2024</td>\n      <td>2024-2025</td>\n    </tr>\n    <tr>\n      <th>485877</th>\n      <td>1290268</td>\n      <td>2024-09-12</td>\n      <td>150000</td>\n      <td>6992</td>\n      <td>UKR1</td>\n      <td>08 2024</td>\n      <td>2024-2025</td>\n    </tr>\n    <tr>\n      <th>485878</th>\n      <td>1302421</td>\n      <td>2024-09-12</td>\n      <td>100000</td>\n      <td>6992</td>\n      <td>UKR1</td>\n      <td>08 2024</td>\n      <td>2024-2025</td>\n    </tr>\n  </tbody>\n</table>\n<p>131100 rows × 7 columns</p>\n</div>"
     },
     "execution_count": 15,
     "metadata": {},
     "output_type": "execute_result"
    }
   ],
   "source": [],
   "metadata": {
    "collapsed": false,
    "ExecuteTime": {
     "end_time": "2024-10-27T05:46:31.597491Z",
     "start_time": "2024-10-27T05:46:31.538106Z"
    }
   },
   "id": "7d4a2125431e54a0",
   "execution_count": 15
  },
  {
   "cell_type": "code",
   "outputs": [],
   "source": [
    "# From the oldest to most recent, init. player's elo based on market value.\n",
    "df_sorted = player_valuations_df.sort_values(by=['player_id', 'date'])\n",
    "oldest_player_valuations_df = df_sorted.drop_duplicates(subset='player_id', keep='first')\n"
   ],
   "metadata": {
    "collapsed": false,
    "ExecuteTime": {
     "end_time": "2024-10-27T05:33:59.486236Z",
     "start_time": "2024-10-27T05:33:59.373627Z"
    }
   },
   "id": "241bef7363fb7839",
   "execution_count": 4
  },
  {
   "cell_type": "code",
   "outputs": [
    {
     "data": {
      "text/plain": "['1999-2000',\n '2001-2002',\n '2003-2004',\n '2004-2005',\n '2005-2006',\n '2006-2007',\n '2007-2008',\n '2008-2009',\n '2009-2010',\n '2010-2011',\n '2011-2012',\n '2012-2013',\n '2013-2014',\n '2014-2015',\n '2015-2016',\n '2016-2017',\n '2017-2018',\n '2018-2019',\n '2019-2020',\n '2020-2021',\n '2021-2022',\n '2022-2023',\n '2023-2024',\n '2024-2025']"
     },
     "execution_count": 5,
     "metadata": {},
     "output_type": "execute_result"
    }
   ],
   "source": [
    "df = oldest_player_valuations_df.copy()\n",
    "seasons = sorted(oldest_player_valuations_df['season'].unique())\n",
    "seasons"
   ],
   "metadata": {
    "collapsed": false,
    "ExecuteTime": {
     "end_time": "2024-10-27T05:34:01.643859Z",
     "start_time": "2024-10-27T05:34:01.619077Z"
    }
   },
   "id": "6ec65c62f5432873",
   "execution_count": 5
  },
  {
   "cell_type": "code",
   "outputs": [
    {
     "data": {
      "text/plain": "   player_id first_name     last_name                name  last_season  \\\n0         10   Miroslav         Klose      Miroslav Klose         2015   \n1         26      Roman  Weidenfeller  Roman Weidenfeller         2017   \n2         65    Dimitar      Berbatov    Dimitar Berbatov         2015   \n3         77        NaN         Lúcio               Lúcio         2012   \n4         80        Tom        Starke          Tom Starke         2017   \n\n   current_club_id         player_code    country_of_birth city_of_birth  \\\n0              398      miroslav-klose              Poland         Opole   \n1               16  roman-weidenfeller             Germany          Diez   \n2             1091    dimitar-berbatov            Bulgaria   Blagoevgrad   \n3              506               lucio              Brazil      Brasília   \n4               27          tom-starke  East Germany (GDR)       Freital   \n\n  country_of_citizenship  ...   foot height_in_cm contract_expiration_date  \\\n0                Germany  ...  right        184.0                      NaN   \n1                Germany  ...   left        190.0                      NaN   \n2               Bulgaria  ...    NaN          NaN                      NaN   \n3                 Brazil  ...    NaN          NaN                      NaN   \n4                Germany  ...  right        194.0                      NaN   \n\n             agent_name                                          image_url  \\\n0  ASBW Sport Marketing  https://img.a.transfermarkt.technology/portrai...   \n1      Neubauer 13 GmbH  https://img.a.transfermarkt.technology/portrai...   \n2       CSKA-AS-23 Ltd.  https://img.a.transfermarkt.technology/portrai...   \n3                   NaN  https://img.a.transfermarkt.technology/portrai...   \n4                   IFM  https://img.a.transfermarkt.technology/portrai...   \n\n                                                 url  \\\n0  https://www.transfermarkt.co.uk/miroslav-klose...   \n1  https://www.transfermarkt.co.uk/roman-weidenfe...   \n2  https://www.transfermarkt.co.uk/dimitar-berbat...   \n3  https://www.transfermarkt.co.uk/lucio/profil/s...   \n4  https://www.transfermarkt.co.uk/tom-starke/pro...   \n\n  current_club_domestic_competition_id  \\\n0                                  IT1   \n1                                   L1   \n2                                  GR1   \n3                                  IT1   \n4                                   L1   \n\n                                   current_club_name market_value_in_eur  \\\n0                      Società Sportiva Lazio S.p.A.           1000000.0   \n1                                  Borussia Dortmund            750000.0   \n2  Panthessalonikios Athlitikos Omilos Konstantin...           1000000.0   \n3                             Juventus Football Club            200000.0   \n4                                  FC Bayern München            100000.0   \n\n  highest_market_value_in_eur  \n0                  30000000.0  \n1                   8000000.0  \n2                  34500000.0  \n3                  24500000.0  \n4                   3000000.0  \n\n[5 rows x 23 columns]",
      "text/html": "<div>\n<style scoped>\n    .dataframe tbody tr th:only-of-type {\n        vertical-align: middle;\n    }\n\n    .dataframe tbody tr th {\n        vertical-align: top;\n    }\n\n    .dataframe thead th {\n        text-align: right;\n    }\n</style>\n<table border=\"1\" class=\"dataframe\">\n  <thead>\n    <tr style=\"text-align: right;\">\n      <th></th>\n      <th>player_id</th>\n      <th>first_name</th>\n      <th>last_name</th>\n      <th>name</th>\n      <th>last_season</th>\n      <th>current_club_id</th>\n      <th>player_code</th>\n      <th>country_of_birth</th>\n      <th>city_of_birth</th>\n      <th>country_of_citizenship</th>\n      <th>...</th>\n      <th>foot</th>\n      <th>height_in_cm</th>\n      <th>contract_expiration_date</th>\n      <th>agent_name</th>\n      <th>image_url</th>\n      <th>url</th>\n      <th>current_club_domestic_competition_id</th>\n      <th>current_club_name</th>\n      <th>market_value_in_eur</th>\n      <th>highest_market_value_in_eur</th>\n    </tr>\n  </thead>\n  <tbody>\n    <tr>\n      <th>0</th>\n      <td>10</td>\n      <td>Miroslav</td>\n      <td>Klose</td>\n      <td>Miroslav Klose</td>\n      <td>2015</td>\n      <td>398</td>\n      <td>miroslav-klose</td>\n      <td>Poland</td>\n      <td>Opole</td>\n      <td>Germany</td>\n      <td>...</td>\n      <td>right</td>\n      <td>184.0</td>\n      <td>NaN</td>\n      <td>ASBW Sport Marketing</td>\n      <td>https://img.a.transfermarkt.technology/portrai...</td>\n      <td>https://www.transfermarkt.co.uk/miroslav-klose...</td>\n      <td>IT1</td>\n      <td>Società Sportiva Lazio S.p.A.</td>\n      <td>1000000.0</td>\n      <td>30000000.0</td>\n    </tr>\n    <tr>\n      <th>1</th>\n      <td>26</td>\n      <td>Roman</td>\n      <td>Weidenfeller</td>\n      <td>Roman Weidenfeller</td>\n      <td>2017</td>\n      <td>16</td>\n      <td>roman-weidenfeller</td>\n      <td>Germany</td>\n      <td>Diez</td>\n      <td>Germany</td>\n      <td>...</td>\n      <td>left</td>\n      <td>190.0</td>\n      <td>NaN</td>\n      <td>Neubauer 13 GmbH</td>\n      <td>https://img.a.transfermarkt.technology/portrai...</td>\n      <td>https://www.transfermarkt.co.uk/roman-weidenfe...</td>\n      <td>L1</td>\n      <td>Borussia Dortmund</td>\n      <td>750000.0</td>\n      <td>8000000.0</td>\n    </tr>\n    <tr>\n      <th>2</th>\n      <td>65</td>\n      <td>Dimitar</td>\n      <td>Berbatov</td>\n      <td>Dimitar Berbatov</td>\n      <td>2015</td>\n      <td>1091</td>\n      <td>dimitar-berbatov</td>\n      <td>Bulgaria</td>\n      <td>Blagoevgrad</td>\n      <td>Bulgaria</td>\n      <td>...</td>\n      <td>NaN</td>\n      <td>NaN</td>\n      <td>NaN</td>\n      <td>CSKA-AS-23 Ltd.</td>\n      <td>https://img.a.transfermarkt.technology/portrai...</td>\n      <td>https://www.transfermarkt.co.uk/dimitar-berbat...</td>\n      <td>GR1</td>\n      <td>Panthessalonikios Athlitikos Omilos Konstantin...</td>\n      <td>1000000.0</td>\n      <td>34500000.0</td>\n    </tr>\n    <tr>\n      <th>3</th>\n      <td>77</td>\n      <td>NaN</td>\n      <td>Lúcio</td>\n      <td>Lúcio</td>\n      <td>2012</td>\n      <td>506</td>\n      <td>lucio</td>\n      <td>Brazil</td>\n      <td>Brasília</td>\n      <td>Brazil</td>\n      <td>...</td>\n      <td>NaN</td>\n      <td>NaN</td>\n      <td>NaN</td>\n      <td>NaN</td>\n      <td>https://img.a.transfermarkt.technology/portrai...</td>\n      <td>https://www.transfermarkt.co.uk/lucio/profil/s...</td>\n      <td>IT1</td>\n      <td>Juventus Football Club</td>\n      <td>200000.0</td>\n      <td>24500000.0</td>\n    </tr>\n    <tr>\n      <th>4</th>\n      <td>80</td>\n      <td>Tom</td>\n      <td>Starke</td>\n      <td>Tom Starke</td>\n      <td>2017</td>\n      <td>27</td>\n      <td>tom-starke</td>\n      <td>East Germany (GDR)</td>\n      <td>Freital</td>\n      <td>Germany</td>\n      <td>...</td>\n      <td>right</td>\n      <td>194.0</td>\n      <td>NaN</td>\n      <td>IFM</td>\n      <td>https://img.a.transfermarkt.technology/portrai...</td>\n      <td>https://www.transfermarkt.co.uk/tom-starke/pro...</td>\n      <td>L1</td>\n      <td>FC Bayern München</td>\n      <td>100000.0</td>\n      <td>3000000.0</td>\n    </tr>\n  </tbody>\n</table>\n<p>5 rows × 23 columns</p>\n</div>"
     },
     "execution_count": 13,
     "metadata": {},
     "output_type": "execute_result"
    }
   ],
   "source": [
    "players_df.head()"
   ],
   "metadata": {
    "collapsed": false,
    "ExecuteTime": {
     "end_time": "2024-10-26T11:47:01.336526Z",
     "start_time": "2024-10-26T11:47:01.262829Z"
    }
   },
   "id": "74fbc732d6dae669",
   "execution_count": 13
  },
  {
   "cell_type": "code",
   "outputs": [],
   "source": [
    "# df = players_df.copy()\n",
    "# for index, row in df.iterrows():\n",
    "#     df['elo'] = \n"
   ],
   "metadata": {
    "collapsed": false
   },
   "id": "236073d61a61085"
  },
  {
   "cell_type": "code",
   "outputs": [
    {
     "data": {
      "text/plain": "       game_id competition_id  season                round       date  \\\n14610  2234412            ELQ    2012  First Round 1st leg 2012-07-03   \n14605  2231979            CLQ    2012  First Round 1st leg 2012-07-03   \n43075  2231978            CLQ    2012  First Round 1st leg 2012-07-03   \n10890  2235764            ELQ    2012  First Round 1st leg 2012-07-03   \n46883  2231982            CLQ    2012  First Round 1st leg 2012-07-03   \n\n       home_club_id  away_club_id  home_club_goals  away_club_goals  \\\n14610         24832         10694                0                6   \n14605          3471         10532                0                0   \n43075           853         10747                7                0   \n10890          1167          5594                0                0   \n46883          6335         28958                8                0   \n\n       home_club_position  ...               stadium attendance  \\\n14610                 NaN  ...            Gundadalur      650.0   \n14605                 NaN  ...          Windsor Park     1341.0   \n43075                 NaN  ...     Stade Jos Nosbaum     1070.0   \n10890                 NaN  ...          Milano Arena     2000.0   \n46883                 NaN  ...  Tony Bezzina Stadium     1136.0   \n\n                referee                                                url  \\\n14610  Andris Treimanis  https://www.transfermarkt.co.uk/spielbericht/i...   \n14605          Wim Smet  https://www.transfermarkt.co.uk/spielbericht/i...   \n43075   Alan Mario Sant  https://www.transfermarkt.co.uk/spielbericht/i...   \n10890  Eitan Shmuelevic  https://www.transfermarkt.co.uk/spielbericht/i...   \n46883   Johnny Casanova  https://www.transfermarkt.co.uk/spielbericht/i...   \n\n       home_club_formation away_club_formation home_club_name away_club_name  \\\n14610                  NaN                 NaN            NaN            NaN   \n14605                  NaN                 NaN            NaN            NaN   \n43075                  NaN                 NaN            NaN            NaN   \n10890                  NaN                 NaN            NaN            NaN   \n46883                  NaN                 NaN            NaN            NaN   \n\n      aggregate   competition_type  \n14610       0:6  international_cup  \n14605       0:0  international_cup  \n43075       7:0  international_cup  \n10890       0:0  international_cup  \n46883       8:0  international_cup  \n\n[5 rows x 23 columns]",
      "text/html": "<div>\n<style scoped>\n    .dataframe tbody tr th:only-of-type {\n        vertical-align: middle;\n    }\n\n    .dataframe tbody tr th {\n        vertical-align: top;\n    }\n\n    .dataframe thead th {\n        text-align: right;\n    }\n</style>\n<table border=\"1\" class=\"dataframe\">\n  <thead>\n    <tr style=\"text-align: right;\">\n      <th></th>\n      <th>game_id</th>\n      <th>competition_id</th>\n      <th>season</th>\n      <th>round</th>\n      <th>date</th>\n      <th>home_club_id</th>\n      <th>away_club_id</th>\n      <th>home_club_goals</th>\n      <th>away_club_goals</th>\n      <th>home_club_position</th>\n      <th>...</th>\n      <th>stadium</th>\n      <th>attendance</th>\n      <th>referee</th>\n      <th>url</th>\n      <th>home_club_formation</th>\n      <th>away_club_formation</th>\n      <th>home_club_name</th>\n      <th>away_club_name</th>\n      <th>aggregate</th>\n      <th>competition_type</th>\n    </tr>\n  </thead>\n  <tbody>\n    <tr>\n      <th>14610</th>\n      <td>2234412</td>\n      <td>ELQ</td>\n      <td>2012</td>\n      <td>First Round 1st leg</td>\n      <td>2012-07-03</td>\n      <td>24832</td>\n      <td>10694</td>\n      <td>0</td>\n      <td>6</td>\n      <td>NaN</td>\n      <td>...</td>\n      <td>Gundadalur</td>\n      <td>650.0</td>\n      <td>Andris Treimanis</td>\n      <td>https://www.transfermarkt.co.uk/spielbericht/i...</td>\n      <td>NaN</td>\n      <td>NaN</td>\n      <td>NaN</td>\n      <td>NaN</td>\n      <td>0:6</td>\n      <td>international_cup</td>\n    </tr>\n    <tr>\n      <th>14605</th>\n      <td>2231979</td>\n      <td>CLQ</td>\n      <td>2012</td>\n      <td>First Round 1st leg</td>\n      <td>2012-07-03</td>\n      <td>3471</td>\n      <td>10532</td>\n      <td>0</td>\n      <td>0</td>\n      <td>NaN</td>\n      <td>...</td>\n      <td>Windsor Park</td>\n      <td>1341.0</td>\n      <td>Wim Smet</td>\n      <td>https://www.transfermarkt.co.uk/spielbericht/i...</td>\n      <td>NaN</td>\n      <td>NaN</td>\n      <td>NaN</td>\n      <td>NaN</td>\n      <td>0:0</td>\n      <td>international_cup</td>\n    </tr>\n    <tr>\n      <th>43075</th>\n      <td>2231978</td>\n      <td>CLQ</td>\n      <td>2012</td>\n      <td>First Round 1st leg</td>\n      <td>2012-07-03</td>\n      <td>853</td>\n      <td>10747</td>\n      <td>7</td>\n      <td>0</td>\n      <td>NaN</td>\n      <td>...</td>\n      <td>Stade Jos Nosbaum</td>\n      <td>1070.0</td>\n      <td>Alan Mario Sant</td>\n      <td>https://www.transfermarkt.co.uk/spielbericht/i...</td>\n      <td>NaN</td>\n      <td>NaN</td>\n      <td>NaN</td>\n      <td>NaN</td>\n      <td>7:0</td>\n      <td>international_cup</td>\n    </tr>\n    <tr>\n      <th>10890</th>\n      <td>2235764</td>\n      <td>ELQ</td>\n      <td>2012</td>\n      <td>First Round 1st leg</td>\n      <td>2012-07-03</td>\n      <td>1167</td>\n      <td>5594</td>\n      <td>0</td>\n      <td>0</td>\n      <td>NaN</td>\n      <td>...</td>\n      <td>Milano Arena</td>\n      <td>2000.0</td>\n      <td>Eitan Shmuelevic</td>\n      <td>https://www.transfermarkt.co.uk/spielbericht/i...</td>\n      <td>NaN</td>\n      <td>NaN</td>\n      <td>NaN</td>\n      <td>NaN</td>\n      <td>0:0</td>\n      <td>international_cup</td>\n    </tr>\n    <tr>\n      <th>46883</th>\n      <td>2231982</td>\n      <td>CLQ</td>\n      <td>2012</td>\n      <td>First Round 1st leg</td>\n      <td>2012-07-03</td>\n      <td>6335</td>\n      <td>28958</td>\n      <td>8</td>\n      <td>0</td>\n      <td>NaN</td>\n      <td>...</td>\n      <td>Tony Bezzina Stadium</td>\n      <td>1136.0</td>\n      <td>Johnny Casanova</td>\n      <td>https://www.transfermarkt.co.uk/spielbericht/i...</td>\n      <td>NaN</td>\n      <td>NaN</td>\n      <td>NaN</td>\n      <td>NaN</td>\n      <td>8:0</td>\n      <td>international_cup</td>\n    </tr>\n  </tbody>\n</table>\n<p>5 rows × 23 columns</p>\n</div>"
     },
     "execution_count": 17,
     "metadata": {},
     "output_type": "execute_result"
    }
   ],
   "source": [
    "def sort_df_by_date(df: pd.DataFrame) -> pd.DataFrame:\n",
    "    \"\"\"Sort dataframe by date\n",
    "    It handles changing the date to datetime format as well\n",
    "\n",
    "    Args:\n",
    "        df (pd.DataFrame): Assume club_games_df have \"date\"\n",
    "\n",
    "    Returns:\n",
    "        pd.DataFrame: _description_\n",
    "    \"\"\"\n",
    "\n",
    "    # NOTE: This is why it might fail? Chagne to index or columns if this fails\n",
    "    if \"date\" not in df.columns:\n",
    "        raise ValueError(\"The 'date' column does not exist in the DataFrame.\")\n",
    "\n",
    "    df[\"date\"] = df[\"date\"].str.strip()\n",
    "    df[\"date\"] = pd.to_datetime(df[\"date\"], errors=\"coerce\", format=\"%Y-%m-%d\")\n",
    "    df.dropna(subset=[\"date\"], inplace=True)\n",
    "    # Sort by date\n",
    "    df = df.sort_values(by=[\"date\"])\n",
    "\n",
    "    return df\n",
    "\n",
    "\n",
    "games_df = sort_df_by_date(games_df)\n"
   ],
   "metadata": {
    "collapsed": false,
    "ExecuteTime": {
     "end_time": "2024-10-27T05:48:59.670323Z",
     "start_time": "2024-10-27T05:48:59.480917Z"
    }
   },
   "id": "80ecf4076ef0433f",
   "execution_count": 17
  },
  {
   "cell_type": "code",
   "outputs": [
    {
     "name": "stdout",
     "output_type": "stream",
     "text": [
      "1637    Willem Janssen\n",
      "Name: name, dtype: object\n",
      "2522    Wout Brama\n",
      "Name: name, dtype: object\n",
      "2559    Robbert Schilder\n",
      "Name: name, dtype: object\n",
      "2810    Wesley Verhoek\n",
      "Name: name, dtype: object\n",
      "3037    Dusan Tadic\n",
      "Name: name, dtype: object\n",
      "365    Peter Wisgerhof\n",
      "Name: name, dtype: object\n",
      "372    Sander Boschker\n",
      "Name: name, dtype: object\n",
      "4142    Nils Röseler\n",
      "Name: name, dtype: object\n",
      "5320    Nacer Chadli\n",
      "Name: name, dtype: object\n",
      "5379    Joshua John\n",
      "Name: name, dtype: object\n",
      "5668    Leroy Fer\n",
      "Name: name, dtype: object\n",
      "5669    Tim Breukers\n",
      "Name: name, dtype: object\n",
      "6692    Glynor Plet\n",
      "Name: name, dtype: object\n",
      "6868    Nicky Kuiper\n",
      "Name: name, dtype: object\n"
     ]
    },
    {
     "data": {
      "text/plain": "          appearance_id  game_id  player_id  player_club_id  \\\n0         2231978_38004  2231978      38004             853   \n1         2233748_79232  2233748      79232            8841   \n2         2234413_42792  2234413      42792            6251   \n3         2234418_73333  2234418      73333            1274   \n4        2234421_122011  2234421     122011             195   \n...                 ...      ...        ...             ...   \n1610490  4451012_617754  4451012     617754            1053   \n1610491  4451012_627208  4451012     627208            1053   \n1610492  4451012_634848  4451012     634848            1053   \n1610493  4451012_666563  4451012     666563            1053   \n1610494  4451012_805056  4451012     805056            1053   \n\n         player_current_club_id        date       player_name competition_id  \\\n0                           235  2012-07-03  Aurélien Joachim            CLQ   \n1                          2698  2012-07-05    Ruslan Abyshov            ELQ   \n2                           465  2012-07-05       Sander Puri            ELQ   \n3                          6646  2012-07-05   Vegar Hedenstad            ELQ   \n4                          3008  2012-07-05  Markus Henriksen            ELQ   \n...                         ...         ...               ...            ...   \n1610490                    1053  2024-09-19    Mylian Jiménez            DKP   \n1610491                    1053  2024-09-19     Andres Jasson            DKP   \n1610492                    1053  2024-09-19    Jubril Adedeji            DKP   \n1610493                    1053  2024-09-19       Kelvin John            DKP   \n1610494                    1053  2024-09-19       Oliver Ross            DKP   \n\n         yellow_cards  red_cards  goals  assists  minutes_played  \n0                   0          0      2        0              90  \n1                   0          0      0        0              90  \n2                   0          0      0        0              45  \n3                   0          0      0        0              90  \n4                   0          0      0        1              90  \n...               ...        ...    ...      ...             ...  \n1610490             0          0      0        0              90  \n1610491             0          0      0        0              23  \n1610492             1          0      0        1              23  \n1610493             0          0      2        0              90  \n1610494             0          0      0        0              24  \n\n[1610495 rows x 13 columns]",
      "text/html": "<div>\n<style scoped>\n    .dataframe tbody tr th:only-of-type {\n        vertical-align: middle;\n    }\n\n    .dataframe tbody tr th {\n        vertical-align: top;\n    }\n\n    .dataframe thead th {\n        text-align: right;\n    }\n</style>\n<table border=\"1\" class=\"dataframe\">\n  <thead>\n    <tr style=\"text-align: right;\">\n      <th></th>\n      <th>appearance_id</th>\n      <th>game_id</th>\n      <th>player_id</th>\n      <th>player_club_id</th>\n      <th>player_current_club_id</th>\n      <th>date</th>\n      <th>player_name</th>\n      <th>competition_id</th>\n      <th>yellow_cards</th>\n      <th>red_cards</th>\n      <th>goals</th>\n      <th>assists</th>\n      <th>minutes_played</th>\n    </tr>\n  </thead>\n  <tbody>\n    <tr>\n      <th>0</th>\n      <td>2231978_38004</td>\n      <td>2231978</td>\n      <td>38004</td>\n      <td>853</td>\n      <td>235</td>\n      <td>2012-07-03</td>\n      <td>Aurélien Joachim</td>\n      <td>CLQ</td>\n      <td>0</td>\n      <td>0</td>\n      <td>2</td>\n      <td>0</td>\n      <td>90</td>\n    </tr>\n    <tr>\n      <th>1</th>\n      <td>2233748_79232</td>\n      <td>2233748</td>\n      <td>79232</td>\n      <td>8841</td>\n      <td>2698</td>\n      <td>2012-07-05</td>\n      <td>Ruslan Abyshov</td>\n      <td>ELQ</td>\n      <td>0</td>\n      <td>0</td>\n      <td>0</td>\n      <td>0</td>\n      <td>90</td>\n    </tr>\n    <tr>\n      <th>2</th>\n      <td>2234413_42792</td>\n      <td>2234413</td>\n      <td>42792</td>\n      <td>6251</td>\n      <td>465</td>\n      <td>2012-07-05</td>\n      <td>Sander Puri</td>\n      <td>ELQ</td>\n      <td>0</td>\n      <td>0</td>\n      <td>0</td>\n      <td>0</td>\n      <td>45</td>\n    </tr>\n    <tr>\n      <th>3</th>\n      <td>2234418_73333</td>\n      <td>2234418</td>\n      <td>73333</td>\n      <td>1274</td>\n      <td>6646</td>\n      <td>2012-07-05</td>\n      <td>Vegar Hedenstad</td>\n      <td>ELQ</td>\n      <td>0</td>\n      <td>0</td>\n      <td>0</td>\n      <td>0</td>\n      <td>90</td>\n    </tr>\n    <tr>\n      <th>4</th>\n      <td>2234421_122011</td>\n      <td>2234421</td>\n      <td>122011</td>\n      <td>195</td>\n      <td>3008</td>\n      <td>2012-07-05</td>\n      <td>Markus Henriksen</td>\n      <td>ELQ</td>\n      <td>0</td>\n      <td>0</td>\n      <td>0</td>\n      <td>1</td>\n      <td>90</td>\n    </tr>\n    <tr>\n      <th>...</th>\n      <td>...</td>\n      <td>...</td>\n      <td>...</td>\n      <td>...</td>\n      <td>...</td>\n      <td>...</td>\n      <td>...</td>\n      <td>...</td>\n      <td>...</td>\n      <td>...</td>\n      <td>...</td>\n      <td>...</td>\n      <td>...</td>\n    </tr>\n    <tr>\n      <th>1610490</th>\n      <td>4451012_617754</td>\n      <td>4451012</td>\n      <td>617754</td>\n      <td>1053</td>\n      <td>1053</td>\n      <td>2024-09-19</td>\n      <td>Mylian Jiménez</td>\n      <td>DKP</td>\n      <td>0</td>\n      <td>0</td>\n      <td>0</td>\n      <td>0</td>\n      <td>90</td>\n    </tr>\n    <tr>\n      <th>1610491</th>\n      <td>4451012_627208</td>\n      <td>4451012</td>\n      <td>627208</td>\n      <td>1053</td>\n      <td>1053</td>\n      <td>2024-09-19</td>\n      <td>Andres Jasson</td>\n      <td>DKP</td>\n      <td>0</td>\n      <td>0</td>\n      <td>0</td>\n      <td>0</td>\n      <td>23</td>\n    </tr>\n    <tr>\n      <th>1610492</th>\n      <td>4451012_634848</td>\n      <td>4451012</td>\n      <td>634848</td>\n      <td>1053</td>\n      <td>1053</td>\n      <td>2024-09-19</td>\n      <td>Jubril Adedeji</td>\n      <td>DKP</td>\n      <td>1</td>\n      <td>0</td>\n      <td>0</td>\n      <td>1</td>\n      <td>23</td>\n    </tr>\n    <tr>\n      <th>1610493</th>\n      <td>4451012_666563</td>\n      <td>4451012</td>\n      <td>666563</td>\n      <td>1053</td>\n      <td>1053</td>\n      <td>2024-09-19</td>\n      <td>Kelvin John</td>\n      <td>DKP</td>\n      <td>0</td>\n      <td>0</td>\n      <td>2</td>\n      <td>0</td>\n      <td>90</td>\n    </tr>\n    <tr>\n      <th>1610494</th>\n      <td>4451012_805056</td>\n      <td>4451012</td>\n      <td>805056</td>\n      <td>1053</td>\n      <td>1053</td>\n      <td>2024-09-19</td>\n      <td>Oliver Ross</td>\n      <td>DKP</td>\n      <td>0</td>\n      <td>0</td>\n      <td>0</td>\n      <td>0</td>\n      <td>24</td>\n    </tr>\n  </tbody>\n</table>\n<p>1610495 rows × 13 columns</p>\n</div>"
     },
     "execution_count": 44,
     "metadata": {},
     "output_type": "execute_result"
    }
   ],
   "source": [
    "ronaldo = players_df.loc[players_df['name'].str.contains('Cristiano Ronaldo')]\n",
    "# ronaldo\n",
    "# def get_appearnces_list(game_id):\n",
    "#     return res_df \n",
    "# # appearances_df.tail(5)\n",
    "# get_appearnces_list(4451012)\n",
    "\n",
    "    # res_df = appearances_df.loc[appearances_df['appearance_id'].str.game_id]\n",
    "# appeared_players_df = appearances_df.loc[appearances_df['game_id'] == game_id]\n",
    "def init_player_elo(player_id, game_id):\n",
    "    # 1. Get player's club (at that time) and check if we have enough elo data of that club\n",
    "\n",
    "    # Note, that, since we chronologically loop through games, his teammate's elo will be elo of that time!\n",
    "    # However, be careful finding out which club he was playing for at THAT time.\n",
    "    pass\n",
    "\n",
    "def get_player_elo(player_id, game_id):\n",
    "    \"\"\"\n",
    "    Get player {player_id} elo, and if elo is not initialised, it will initialise the player's elo.\n",
    "    @param player_id: player's id\n",
    "    @return: player['elo'], integer\n",
    "    \"\"\"\n",
    "    player: pd.DataFrame = players_df.loc[players_df['player_id'] == player_id]\n",
    "    # If there is multiple....\n",
    "    if len(player) > 1:\n",
    "        raise ValueError(f\"Multiple results found for player {player_id}. Expected only one\")\n",
    "    elif len(player) == 0:\n",
    "        raise ValueError(f\"No results found for player {player_id}\")\n",
    "    \n",
    "    # Nothing went wrong\n",
    "    if 'elo' in player.columns && player['elo'] is not None:\n",
    "        # Elo alr exist\n",
    "        return player['elo']\n",
    "    else:\n",
    "        # Elo doesn't exist\n",
    "        return init_player_elo(player_id, game_id)\n",
    "        \n",
    "    \n",
    "\n",
    "def calculate_player_elo(appearances_df, game_id):\n",
    "    appeared_players_df: pd.DataFrame = appearances_df.loc[appearances_df['game_id'] == game_id]\n",
    "    for index, column in appeared_players_df.iterrows():\n",
    "        # Get list of players who appeared in certain game. \n",
    "        player = players_df.loc[players_df['player_id'] == column['player_id']]\n",
    "        # Get or init. player elo\n",
    "        player['elo']\n",
    "        print(player['name'])\n",
    "    \n",
    "calculate_player_elo(appearances_df, 2235545)\n",
    "appearances_df"
   ],
   "metadata": {
    "collapsed": false,
    "ExecuteTime": {
     "end_time": "2024-10-27T06:07:09.042598Z",
     "start_time": "2024-10-27T06:07:08.988862Z"
    }
   },
   "id": "3439a296128824e9",
   "execution_count": 44
  },
  {
   "cell_type": "code",
   "outputs": [],
   "source": [
    "# \n",
    "# \n",
    "# def sort_games_by_date(df: pd.DataFrame) -> pd.DataFrame:\n",
    "#     \"\"\"Sort club_games_df by date\n",
    "#     It handles changing the date to datetime format as well\n",
    "# \n",
    "#     Args:\n",
    "#         club_games_df (pd.DataFrame): Assume club_games_df have \"date\"\n",
    "# \n",
    "#     Returns:\n",
    "#         pd.DataFrame: _description_\n",
    "#     \"\"\"\n",
    "# \n",
    "#     # NOTE: This is why it might fail? Chagne to index or columns if this fails\n",
    "#     if \"date\" not in df.columns:\n",
    "#         raise ValueError(\"The 'date' column does not exist in the DataFrame.\")\n",
    "# \n",
    "#     df[\"date\"] = df[\"date\"].str.strip()\n",
    "#     df[\"date\"] = pd.to_datetime(df[\"date\"], errors=\"coerce\", format=\"%Y-%m-%d\")\n",
    "#     df.dropna(subset=[\"date\"], inplace=True)\n",
    "#     # Sort by date\n",
    "#     df = df.sort_values(by=[\"date\"])\n",
    "# \n",
    "#     return df\n",
    "# \n",
    "# \n",
    "# def expected_chance_of_success(home_team_elo, away_team_elo) -> int:\n",
    "#     \"\"\"Calculate chance of success E_home\n",
    "# \n",
    "#     Args:\n",
    "#         home_team_elo (int): _description_\n",
    "#         away_team_elo (int): _description_\n",
    "# \n",
    "#     Returns:\n",
    "#         int : Expected chance of home team winning\n",
    "#     \"\"\"\n",
    "#     return 1 / (1 + 10 ** ((away_team_elo - home_team_elo) / 400))\n",
    "# \n",
    "# \n",
    "# # def decide_K_value(game: pd.Series):\n",
    "# #     \"\"\"Decide K value based on league or etc?\n",
    "# \n",
    "# #     Args:\n",
    "# #         game (pd.Series): _description_\n",
    "# #     \"\"\"\n",
    "# \n",
    "# \n",
    "# def calculate_new_elo(clubs_df: pd.DataFrame, game: pd.Series, K=30):\n",
    "#     \"\"\"Calculate new elo\n",
    "# \n",
    "#     Args:\n",
    "#         home_team_elo (_type_): _description_\n",
    "#         away_team_elo (_type_): _description_\n",
    "#         result (_type_): result (should be 1, 0, -1)\n",
    "#         K (int, optional): _description_. Defaults to 30.\n",
    "# \n",
    "#     Returns:\n",
    "#         tuple (int, int): new elos of home and away team\n",
    "#     \"\"\"\n",
    "#     result = game[\"is_win\"]\n",
    "# \n",
    "#     if result not in [-1, 0, 1]:\n",
    "#         raise AssertionError(\"Invalid result value passed!\")\n",
    "# \n",
    "#     home_club_id = game[\"home_club_id\"]\n",
    "#     away_club_id = game[\"away_club_id\"]\n",
    "# \n",
    "#     home_club_elo = clubs_df.loc[clubs_df[\"club_id\"] == home_club_id, \"elo\"].values[0]\n",
    "#     away_club_elo = clubs_df.loc[clubs_df[\"club_id\"] == away_club_id, \"elo\"].values[0]\n",
    "# \n",
    "#     expected_home_team = expected_chance_of_success(home_club_elo, away_club_elo)\n",
    "#     expected_away_team = 1 - expected_home_team\n",
    "# \n",
    "#     new_home_elo = home_club_elo + K * (result - expected_home_team)\n",
    "#     new_away_elo = away_club_elo + K * ((1 - result) - expected_away_team)\n",
    "# \n",
    "#     return new_home_elo, new_away_elo\n",
    "# \n",
    "# \n",
    "# def clean_games_df(games_df: pd.DataFrame, clubs_df: pd.DataFrame) -> pd.DataFrame:\n",
    "#     \"\"\"Clean games_df so that it only contains games between clubs that\n",
    "#     exists in clubs_df\n",
    "# \n",
    "#     Args:\n",
    "#         games_df (pd.DataFrame): _description_\n",
    "#         clubs_df (pd.DataFrame): _description_\n",
    "# \n",
    "#     Returns:\n",
    "#         pd.DataFrame: _description_\n",
    "#     \"\"\"\n",
    "# \n",
    "#     # Clean games_df so that it only contains games that have valid club id (ie. Clubs in our club_df)\n",
    "#     home_exists = games_df[\"home_club_id\"].isin(clubs_df[\"club_id\"])\n",
    "#     away_exists = games_df[\"away_club_id\"].isin(clubs_df[\"club_id\"])\n",
    "#     cleaned_games_df = games_df[home_exists & away_exists]\n",
    "# \n",
    "#     return cleaned_games_df\n",
    "# \n",
    "# \n",
    "# def calculate_clubs_elo_single_match(clubs_df: pd.DataFrame, row):\n",
    "# \n",
    "#     home_club_id = row[\"home_club_id\"]\n",
    "#     away_club_id = row[\"away_club_id\"]\n",
    "# \n",
    "#     # Get current ELOs for home and away clubs from clubs_df\n",
    "#     home_elo = clubs_df.loc[clubs_df[\"club_id\"] == home_club_id, \"elo\"].values[0]\n",
    "#     away_elo = clubs_df.loc[clubs_df[\"club_id\"] == away_club_id, \"elo\"].values[0]\n",
    "# \n",
    "#     # Get result for the game (assuming 1 for home win, 0 for away win, 0.5 for draw)\n",
    "#     game_result = row[\"is_win\"]  # Adjust this based on your game logic\n",
    "# \n",
    "#     # Update ELOs based on the result\n",
    "#     new_home_elo, new_away_elo = calculate_new_elo(row)\n",
    "# \n",
    "#     clubs_df.loc[clubs_df[\"club_id\"] == home_club_id, \"elo\"] = new_home_elo\n",
    "#     clubs_df.loc[clubs_df[\"club_id\"] == away_club_id, \"elo\"] = new_away_elo\n",
    "# \n",
    "#     return clubs_df\n",
    "# \n",
    "# \n",
    "# def calculate_clubs_elo():\n",
    "#     \"\"\"\n",
    "#     Basically calculates clubs elo from scratch\n",
    "# \n",
    "#     1. Read csv files (from transfermrkt dataset) to create a dictionary of DataFrames\n",
    "#     2. Clean games and filter them by date\n",
    "#     3. Calculate ELO using very basic ELO\n",
    "# \n",
    "#     Returns:\n",
    "#         pd.DataFrame : clubs_df with updated club ELO\n",
    "#     \"\"\"\n",
    "# \n",
    "#     # Import data\n",
    "#     dataframes = import_data_from_csv()\n",
    "#     games_df = dataframes[\"games_df\"]\n",
    "#     clubs_df = dataframes[\"clubs_df\"]\n",
    "#     club_games_df = dataframes[\"club_games_df\"]\n",
    "# \n",
    "#     cleaned_games_df = clean_games_df(games_df, clubs_df)\n",
    "# \n",
    "#     # Merge\n",
    "#     club_games_merged_df = pd.merge(\n",
    "#         cleaned_games_df, club_games_df, on=\"game_id\", how=\"inner\"\n",
    "#     )\n",
    "#     \n",
    "#     club_games_merged_df.to_csv('club_games_merged.csv')\n",
    "# \n",
    "#     # Now, we will sort by date (Oldest to Latest)\n",
    "#     # To calculate and update ELO by time\n",
    "#     # Change data type to datetime format\n",
    "#     club_games_merged_df = sort_games_by_date(club_games_merged_df)\n",
    "# \n",
    "#     # Initialise club elos\n",
    "#     # NOTE: Here we are using 1500, but better init. can be done like considering team market value\n",
    "#     # or level of league they are playing for etc\n",
    "#     clubs_df[\"elo\"] = 1500\n",
    "#     # Ensure the 'elo' column is of type float\n",
    "#     clubs_df[\"elo\"] = clubs_df[\"elo\"].astype(float)\n",
    "#     test_games_df = club_games_merged_df.head(5000)\n",
    "# \n",
    "#     update_counter = 0\n",
    "#     for idx, row in test_games_df.iterrows():\n",
    "#         # home_club_id = row[\"home_club_id\"]\n",
    "#         # away_club_id = row[\"away_club_id\"]\n",
    "# \n",
    "#         # # Get current ELOs for home and away clubs from clubs_df\n",
    "#         # home_elo = clubs_df.loc[clubs_df[\"club_id\"] == home_club_id, \"elo\"].values[0]\n",
    "#         # away_elo = clubs_df.loc[clubs_df[\"club_id\"] == away_club_id, \"elo\"].values[0]\n",
    "# \n",
    "#         # # Get result for the game (assuming 1 for home win, 0 for away win, 0.5 for draw)\n",
    "#         # game_result = row[\"is_win\"]  # Adjust this based on your game logic\n",
    "# \n",
    "#         # # Update ELOs based on the result\n",
    "#         # new_home_elo, new_away_elo = calculate_new_elo(home_elo, away_elo, game_result)\n",
    "# \n",
    "#         # clubs_df.loc[clubs_df[\"club_id\"] == home_club_id, \"elo\"] = new_home_elo\n",
    "#         # clubs_df.loc[clubs_df[\"club_id\"] == away_club_id, \"elo\"] = new_away_elo\n",
    "#         clubs_df = calculate_clubs_elo_single_match(clubs_df, row)\n",
    "# \n",
    "#         update_counter += 1\n",
    "# \n",
    "#     print(f\"ELO was {update_counter} times updated\")\n",
    "# \n",
    "#     clubs_df.to_csv(\"club_elos.csv\")\n",
    "#     return clubs_df\n",
    "# \n",
    "# \n",
    "# df = calculate_clubs_elo()\n",
    "# print(df.head())\n",
    "# print(df.tail())"
   ],
   "metadata": {
    "collapsed": false
   },
   "id": "b111f3089be5ba9a"
  }
 ],
 "metadata": {
  "kernelspec": {
   "display_name": "Python 3",
   "language": "python",
   "name": "python3"
  },
  "language_info": {
   "codemirror_mode": {
    "name": "ipython",
    "version": 2
   },
   "file_extension": ".py",
   "mimetype": "text/x-python",
   "name": "python",
   "nbconvert_exporter": "python",
   "pygments_lexer": "ipython2",
   "version": "2.7.6"
  }
 },
 "nbformat": 4,
 "nbformat_minor": 5
}
