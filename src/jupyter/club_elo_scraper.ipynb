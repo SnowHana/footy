{
 "cells": [
  {
   "cell_type": "markdown",
   "metadata": {},
   "source": [
    "# Club elo scraper\n",
    "Store club elo per every 6 months as list of pandas dataframes\n",
    "and store it as a csv file"
   ]
  },
  {
   "cell_type": "code",
   "execution_count": 23,
   "metadata": {},
   "outputs": [],
   "source": [
    "from datetime import datetime\n",
    "import io\n",
    "import requests\n",
    "import pandas as pd\n",
    "from pathlib import Path"
   ]
  },
  {
   "cell_type": "code",
   "execution_count": 28,
   "metadata": {},
   "outputs": [
    {
     "name": "stderr",
     "output_type": "stream",
     "text": [
      "/var/folders/nh/kbd4vyw93l9_cfg59h74rpwh0000gn/T/ipykernel_7772/3712119244.py:2: FutureWarning: 'M' is deprecated and will be removed in a future version, please use 'ME' instead.\n",
      "  date_range = pd.date_range(start='2020-01-01', end=pd.Timestamp.now(), freq='6M')\n"
     ]
    },
    {
     "data": {
      "text/plain": [
       "['2020-01-31',\n",
       " '2020-07-31',\n",
       " '2021-01-31',\n",
       " '2021-07-31',\n",
       " '2022-01-31',\n",
       " '2022-07-31',\n",
       " '2023-01-31',\n",
       " '2023-07-31',\n",
       " '2024-01-31',\n",
       " '2024-07-31']"
      ]
     },
     "execution_count": 28,
     "metadata": {},
     "output_type": "execute_result"
    }
   ],
   "source": [
    "# Generate dates with 6-month intervals starting from 2010-01-01 to today\n",
    "date_range = pd.date_range(start='2020-01-01', end=pd.Timestamp.now(), freq='6M')\n",
    "\n",
    "# Convert the dates to the desired string format 'YYYY-MM-DD'\n",
    "date_list = date_range.strftime('%Y-%m-%d').tolist()"
   ]
  },
  {
   "cell_type": "code",
   "execution_count": 29,
   "metadata": {},
   "outputs": [],
   "source": [
    "\n",
    "dfs = []\n",
    "merged_df = pd.DataFrame()\n",
    "\n",
    "for date in date_list:\n",
    "    response = requests.get(f\"http://api.clubelo.com/{date}\")\n",
    "\n",
    "    club_elo_df = pd.read_csv(io.StringIO(response.content.decode('utf-8')))\n",
    "    club_elo_df['Rank'] = club_elo_df.index + 1\n",
    "    club_elo_df['Updated'] = date\n",
    "    \n",
    "    dfs.append(club_elo_df)\n",
    "    # merged_df.append(club_elo_df)\n",
    "    \n",
    "res = pd.concat(dfs)\n",
    "\n",
    "# NOTE: This wont work for jupyter so we are using sth else for now\n",
    "# # Get the absolute path of the current script (jupyter dir)\n",
    "# BASE_DIR = Path(__file__).resolve().parent\n",
    "\n",
    "# # Build the path to the data directory\n",
    "# DATA_DIR = BASE_DIR / 'data'\n",
    "BASE_DIR = Path.cwd()\n",
    "\n",
    "# Build the path to the data directory\n",
    "DATA_DIR = BASE_DIR.parents[0] / 'transfer_data' \n",
    "\n",
    "res.to_csv(DATA_DIR / 'club_elos.csv')"
   ]
  }
 ],
 "metadata": {
  "kernelspec": {
   "display_name": "footy",
   "language": "python",
   "name": "python3"
  },
  "language_info": {
   "codemirror_mode": {
    "name": "ipython",
    "version": 3
   },
   "file_extension": ".py",
   "mimetype": "text/x-python",
   "name": "python",
   "nbconvert_exporter": "python",
   "pygments_lexer": "ipython3",
   "version": "3.12.4"
  }
 },
 "nbformat": 4,
 "nbformat_minor": 2
}
