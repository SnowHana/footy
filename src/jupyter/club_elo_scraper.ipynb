{
 "cells": [
  {
   "cell_type": "markdown",
   "metadata": {},
   "source": [
    "# Club elo scraper\n",
    "Store club elo per every 6 months as list of pandas dataframes\n",
    "and store it as a csv file"
   ]
  },
  {
   "cell_type": "code",
   "outputs": [],
   "source": [
    "from datetime import datetime\n",
    "import io\n",
    "import requests\n",
    "import pandas as pd\n",
    "from pathlib import Path\n",
    "import time\n",
    "import os"
   ],
   "metadata": {
    "ExecuteTime": {
     "end_time": "2024-09-25T04:45:07.432605Z",
     "start_time": "2024-09-25T04:45:07.381820Z"
    }
   },
   "execution_count": 3
  },
  {
   "cell_type": "code",
   "outputs": [],
   "source": [
    "# Generate dates with 6-month intervals starting from 2010-01-01 to today\n",
    "date_range = pd.date_range(start='2020-01-01', end=pd.Timestamp.now(), freq='6ME')\n",
    "\n",
    "# Convert the dates to the desired string format 'YYYY-MM-DD'\n",
    "date_list = date_range.strftime('%Y-%m-%d').tolist()"
   ],
   "metadata": {
    "ExecuteTime": {
     "end_time": "2024-09-25T04:45:24.816997Z",
     "start_time": "2024-09-25T04:45:24.811220Z"
    }
   },
   "execution_count": 5
  },
  {
   "cell_type": "code",
   "outputs": [],
   "source": [
    "\n",
    "dfs = []\n",
    "merged_df = pd.DataFrame()\n",
    "\n",
    "for date in date_list:\n",
    "    response = requests.get(f\"https://api.clubelo.com/{date}\")\n",
    "\n",
    "    club_elo_df = pd.read_csv(io.StringIO(response.content.decode('utf-8')))\n",
    "    club_elo_df['Rank'] = club_elo_df.index + 1\n",
    "    club_elo_df['Updated'] = date\n",
    "    \n",
    "    dfs.append(club_elo_df)\n",
    "    time.sleep(2)\n",
    "    # merged_df.append(club_elo_df)\n",
    "    \n",
    "res = pd.concat(dfs)\n",
    "\n"
   ],
   "metadata": {
    "ExecuteTime": {
     "end_time": "2024-09-25T04:46:06.568674Z",
     "start_time": "2024-09-25T04:45:26.635441Z"
    }
   },
   "execution_count": 6
  },
  {
   "cell_type": "code",
   "outputs": [
    {
     "data": {
      "text/plain": "   Rank       Club Country  Level          Elo        From          To  \\\n0     1  Liverpool     ENG      1  2088.261963  2020-01-30  2020-02-01   \n1     2   Man City     ENG      1  2002.820190  2020-01-22  2020-02-02   \n2     3  Barcelona     ESP      1  1964.985352  2020-01-26  2020-02-02   \n3     4     Bayern     GER      1  1951.214600  2020-01-26  2020-02-01   \n4     5   Juventus     ITA      1  1908.358643  2020-01-27  2020-02-02   \n\n      Updated  \n0  2020-01-31  \n1  2020-01-31  \n2  2020-01-31  \n3  2020-01-31  \n4  2020-01-31  ",
      "text/html": "<div>\n<style scoped>\n    .dataframe tbody tr th:only-of-type {\n        vertical-align: middle;\n    }\n\n    .dataframe tbody tr th {\n        vertical-align: top;\n    }\n\n    .dataframe thead th {\n        text-align: right;\n    }\n</style>\n<table border=\"1\" class=\"dataframe\">\n  <thead>\n    <tr style=\"text-align: right;\">\n      <th></th>\n      <th>Rank</th>\n      <th>Club</th>\n      <th>Country</th>\n      <th>Level</th>\n      <th>Elo</th>\n      <th>From</th>\n      <th>To</th>\n      <th>Updated</th>\n    </tr>\n  </thead>\n  <tbody>\n    <tr>\n      <th>0</th>\n      <td>1</td>\n      <td>Liverpool</td>\n      <td>ENG</td>\n      <td>1</td>\n      <td>2088.261963</td>\n      <td>2020-01-30</td>\n      <td>2020-02-01</td>\n      <td>2020-01-31</td>\n    </tr>\n    <tr>\n      <th>1</th>\n      <td>2</td>\n      <td>Man City</td>\n      <td>ENG</td>\n      <td>1</td>\n      <td>2002.820190</td>\n      <td>2020-01-22</td>\n      <td>2020-02-02</td>\n      <td>2020-01-31</td>\n    </tr>\n    <tr>\n      <th>2</th>\n      <td>3</td>\n      <td>Barcelona</td>\n      <td>ESP</td>\n      <td>1</td>\n      <td>1964.985352</td>\n      <td>2020-01-26</td>\n      <td>2020-02-02</td>\n      <td>2020-01-31</td>\n    </tr>\n    <tr>\n      <th>3</th>\n      <td>4</td>\n      <td>Bayern</td>\n      <td>GER</td>\n      <td>1</td>\n      <td>1951.214600</td>\n      <td>2020-01-26</td>\n      <td>2020-02-01</td>\n      <td>2020-01-31</td>\n    </tr>\n    <tr>\n      <th>4</th>\n      <td>5</td>\n      <td>Juventus</td>\n      <td>ITA</td>\n      <td>1</td>\n      <td>1908.358643</td>\n      <td>2020-01-27</td>\n      <td>2020-02-02</td>\n      <td>2020-01-31</td>\n    </tr>\n  </tbody>\n</table>\n</div>"
     },
     "execution_count": 7,
     "metadata": {},
     "output_type": "execute_result"
    }
   ],
   "source": [
    "\n",
    "res.head()"
   ],
   "metadata": {
    "ExecuteTime": {
     "end_time": "2024-09-25T04:46:26.229496Z",
     "start_time": "2024-09-25T04:46:26.193949Z"
    }
   },
   "execution_count": 7
  },
  {
   "cell_type": "markdown",
   "source": [
    "## Changing name of club elos to that of clubs df\n",
    "So rn, names are mixed up (Man city instead of Manchester City) etc\n",
    "We have to find a way to change this name into that of clubs df"
   ],
   "metadata": {
    "collapsed": false
   }
  },
  {
   "cell_type": "code",
   "outputs": [],
   "source": [],
   "metadata": {
    "collapsed": false
   }
  },
  {
   "cell_type": "markdown",
   "source": [
    "---\n",
    "Below is IDK whats gonig on\n"
   ],
   "metadata": {
    "collapsed": false
   }
  },
  {
   "cell_type": "code",
   "execution_count": 8,
   "metadata": {
    "ExecuteTime": {
     "end_time": "2024-09-25T04:47:43.992859Z",
     "start_time": "2024-09-25T04:47:43.959625Z"
    }
   },
   "outputs": [
    {
     "data": {
      "text/plain": "   rank       name country  level          elo        from          to  \\\n0     1  Liverpool     ENG      1  2088.261963  2020-01-30  2020-02-01   \n1     2   Man City     ENG      1  2002.820190  2020-01-22  2020-02-02   \n2     3  Barcelona     ESP      1  1964.985352  2020-01-26  2020-02-02   \n3     4     Bayern     GER      1  1951.214600  2020-01-26  2020-02-01   \n4     5   Juventus     ITA      1  1908.358643  2020-01-27  2020-02-02   \n\n      updated  \n0  2020-01-31  \n1  2020-01-31  \n2  2020-01-31  \n3  2020-01-31  \n4  2020-01-31  ",
      "text/html": "<div>\n<style scoped>\n    .dataframe tbody tr th:only-of-type {\n        vertical-align: middle;\n    }\n\n    .dataframe tbody tr th {\n        vertical-align: top;\n    }\n\n    .dataframe thead th {\n        text-align: right;\n    }\n</style>\n<table border=\"1\" class=\"dataframe\">\n  <thead>\n    <tr style=\"text-align: right;\">\n      <th></th>\n      <th>rank</th>\n      <th>name</th>\n      <th>country</th>\n      <th>level</th>\n      <th>elo</th>\n      <th>from</th>\n      <th>to</th>\n      <th>updated</th>\n    </tr>\n  </thead>\n  <tbody>\n    <tr>\n      <th>0</th>\n      <td>1</td>\n      <td>Liverpool</td>\n      <td>ENG</td>\n      <td>1</td>\n      <td>2088.261963</td>\n      <td>2020-01-30</td>\n      <td>2020-02-01</td>\n      <td>2020-01-31</td>\n    </tr>\n    <tr>\n      <th>1</th>\n      <td>2</td>\n      <td>Man City</td>\n      <td>ENG</td>\n      <td>1</td>\n      <td>2002.820190</td>\n      <td>2020-01-22</td>\n      <td>2020-02-02</td>\n      <td>2020-01-31</td>\n    </tr>\n    <tr>\n      <th>2</th>\n      <td>3</td>\n      <td>Barcelona</td>\n      <td>ESP</td>\n      <td>1</td>\n      <td>1964.985352</td>\n      <td>2020-01-26</td>\n      <td>2020-02-02</td>\n      <td>2020-01-31</td>\n    </tr>\n    <tr>\n      <th>3</th>\n      <td>4</td>\n      <td>Bayern</td>\n      <td>GER</td>\n      <td>1</td>\n      <td>1951.214600</td>\n      <td>2020-01-26</td>\n      <td>2020-02-01</td>\n      <td>2020-01-31</td>\n    </tr>\n    <tr>\n      <th>4</th>\n      <td>5</td>\n      <td>Juventus</td>\n      <td>ITA</td>\n      <td>1</td>\n      <td>1908.358643</td>\n      <td>2020-01-27</td>\n      <td>2020-02-02</td>\n      <td>2020-01-31</td>\n    </tr>\n  </tbody>\n</table>\n</div>"
     },
     "execution_count": 8,
     "metadata": {},
     "output_type": "execute_result"
    }
   ],
   "source": [
    "# Now we want to change club name according to clubs.csv and also change the index column name\n",
    "# columns = [x.lower() for x in res.columns]\n",
    "new_rows = ['rank', 'name', 'country', 'level', 'elo', 'from', 'to', 'updated']\n",
    "\n",
    "res.columns = new_rows\n",
    "# res = res[0:].reset_index(drop=True)  # Remove the first row and reset index\n",
    "# \n",
    "res.head()\n"
   ]
  },
  {
   "cell_type": "code",
   "execution_count": null,
   "metadata": {},
   "outputs": [],
   "source": []
  },
  {
   "cell_type": "code",
   "execution_count": 9,
   "metadata": {
    "ExecuteTime": {
     "end_time": "2024-09-25T04:49:50.180860Z",
     "start_time": "2024-09-25T04:49:50.160769Z"
    }
   },
   "outputs": [],
   "source": [
    "# Change name to that in transfer mrkt dataset\n",
    "\n",
    "\n",
    "# NOTE: This wont work for jupyter so we are using sth else for now\n",
    "# # Get the absolute path of the current script (jupyter dir)\n",
    "# BASE_DIR = Path(__file__).resolve().parent\n",
    "\n",
    "# # Build the path to the data directory\n",
    "# DATA_DIR = BASE_DIR / 'data'\n",
    "BASE_DIR = Path.cwd()\n",
    "\n",
    "# Build the path to the data directory\n",
    "DATA_DIR = BASE_DIR.parents[0] / 'transfer_data' \n",
    "CLUBS_FILE = 'clubs.csv'\n",
    "# res.to_csv(DATA_DIR / 'club_elos.csv')\n",
    "\n",
    "\n",
    "filepath=os.path.join(DATA_DIR, CLUBS_FILE)\n",
    "clubs_df=pd.read_csv(filepath,sep=\",\",encoding = \"UTF-8\")"
   ]
  },
  {
   "cell_type": "code",
   "execution_count": 10,
   "metadata": {
    "ExecuteTime": {
     "end_time": "2024-09-25T04:49:51.966274Z",
     "start_time": "2024-09-25T04:49:51.941745Z"
    }
   },
   "outputs": [
    {
     "data": {
      "text/plain": "   club_id          club_code                             name  \\\n0      105    sv-darmstadt-98                  SV Darmstadt 98   \n1    11127  ural-ekaterinburg               Ural Yekaterinburg   \n2      114  besiktas-istanbul        Beşiktaş Jimnastik Kulübü   \n3       12             as-rom       Associazione Sportiva Roma   \n4      148  tottenham-hotspur  Tottenham Hotspur Football Club   \n\n  domestic_competition_id  total_market_value  squad_size  average_age  \\\n0                      L1                 NaN          27         25.6   \n1                     RU1                 NaN          30         26.5   \n2                     TR1                 NaN          31         25.6   \n3                     IT1                 NaN          26         25.7   \n4                     GB1                 NaN          25         25.3   \n\n   foreigners_number  foreigners_percentage  national_team_players  \\\n0                 13                   48.1                      1   \n1                 11                   36.7                      3   \n2                 16                   51.6                      7   \n3                 19                   73.1                     18   \n4                 18                   72.0                     16   \n\n                     stadium_name  stadium_seats net_transfer_record  \\\n0  Merck-Stadion am Böllenfalltor          17810             +€3.05m   \n1             Yekaterinburg Arena          23000              +€880k   \n2                 Tüpraş Stadyumu          42445            €-18.65m   \n3                Olimpico di Roma          73261            €-65.60m   \n4       Tottenham Hotspur Stadium          62850            €-93.55m   \n\n   coach_name  last_season                                           filename  \\\n0         NaN         2023  ../data/raw/transfermarkt-scraper/2023/clubs.j...   \n1         NaN         2023  ../data/raw/transfermarkt-scraper/2023/clubs.j...   \n2         NaN         2024  ../data/raw/transfermarkt-scraper/2024/clubs.j...   \n3         NaN         2024  ../data/raw/transfermarkt-scraper/2024/clubs.j...   \n4         NaN         2024  ../data/raw/transfermarkt-scraper/2024/clubs.j...   \n\n                                                 url  \n0  https://www.transfermarkt.co.uk/sv-darmstadt-9...  \n1  https://www.transfermarkt.co.uk/ural-ekaterinb...  \n2  https://www.transfermarkt.co.uk/besiktas-istan...  \n3  https://www.transfermarkt.co.uk/as-rom/startse...  \n4  https://www.transfermarkt.co.uk/tottenham-hots...  ",
      "text/html": "<div>\n<style scoped>\n    .dataframe tbody tr th:only-of-type {\n        vertical-align: middle;\n    }\n\n    .dataframe tbody tr th {\n        vertical-align: top;\n    }\n\n    .dataframe thead th {\n        text-align: right;\n    }\n</style>\n<table border=\"1\" class=\"dataframe\">\n  <thead>\n    <tr style=\"text-align: right;\">\n      <th></th>\n      <th>club_id</th>\n      <th>club_code</th>\n      <th>name</th>\n      <th>domestic_competition_id</th>\n      <th>total_market_value</th>\n      <th>squad_size</th>\n      <th>average_age</th>\n      <th>foreigners_number</th>\n      <th>foreigners_percentage</th>\n      <th>national_team_players</th>\n      <th>stadium_name</th>\n      <th>stadium_seats</th>\n      <th>net_transfer_record</th>\n      <th>coach_name</th>\n      <th>last_season</th>\n      <th>filename</th>\n      <th>url</th>\n    </tr>\n  </thead>\n  <tbody>\n    <tr>\n      <th>0</th>\n      <td>105</td>\n      <td>sv-darmstadt-98</td>\n      <td>SV Darmstadt 98</td>\n      <td>L1</td>\n      <td>NaN</td>\n      <td>27</td>\n      <td>25.6</td>\n      <td>13</td>\n      <td>48.1</td>\n      <td>1</td>\n      <td>Merck-Stadion am Böllenfalltor</td>\n      <td>17810</td>\n      <td>+€3.05m</td>\n      <td>NaN</td>\n      <td>2023</td>\n      <td>../data/raw/transfermarkt-scraper/2023/clubs.j...</td>\n      <td>https://www.transfermarkt.co.uk/sv-darmstadt-9...</td>\n    </tr>\n    <tr>\n      <th>1</th>\n      <td>11127</td>\n      <td>ural-ekaterinburg</td>\n      <td>Ural Yekaterinburg</td>\n      <td>RU1</td>\n      <td>NaN</td>\n      <td>30</td>\n      <td>26.5</td>\n      <td>11</td>\n      <td>36.7</td>\n      <td>3</td>\n      <td>Yekaterinburg Arena</td>\n      <td>23000</td>\n      <td>+€880k</td>\n      <td>NaN</td>\n      <td>2023</td>\n      <td>../data/raw/transfermarkt-scraper/2023/clubs.j...</td>\n      <td>https://www.transfermarkt.co.uk/ural-ekaterinb...</td>\n    </tr>\n    <tr>\n      <th>2</th>\n      <td>114</td>\n      <td>besiktas-istanbul</td>\n      <td>Beşiktaş Jimnastik Kulübü</td>\n      <td>TR1</td>\n      <td>NaN</td>\n      <td>31</td>\n      <td>25.6</td>\n      <td>16</td>\n      <td>51.6</td>\n      <td>7</td>\n      <td>Tüpraş Stadyumu</td>\n      <td>42445</td>\n      <td>€-18.65m</td>\n      <td>NaN</td>\n      <td>2024</td>\n      <td>../data/raw/transfermarkt-scraper/2024/clubs.j...</td>\n      <td>https://www.transfermarkt.co.uk/besiktas-istan...</td>\n    </tr>\n    <tr>\n      <th>3</th>\n      <td>12</td>\n      <td>as-rom</td>\n      <td>Associazione Sportiva Roma</td>\n      <td>IT1</td>\n      <td>NaN</td>\n      <td>26</td>\n      <td>25.7</td>\n      <td>19</td>\n      <td>73.1</td>\n      <td>18</td>\n      <td>Olimpico di Roma</td>\n      <td>73261</td>\n      <td>€-65.60m</td>\n      <td>NaN</td>\n      <td>2024</td>\n      <td>../data/raw/transfermarkt-scraper/2024/clubs.j...</td>\n      <td>https://www.transfermarkt.co.uk/as-rom/startse...</td>\n    </tr>\n    <tr>\n      <th>4</th>\n      <td>148</td>\n      <td>tottenham-hotspur</td>\n      <td>Tottenham Hotspur Football Club</td>\n      <td>GB1</td>\n      <td>NaN</td>\n      <td>25</td>\n      <td>25.3</td>\n      <td>18</td>\n      <td>72.0</td>\n      <td>16</td>\n      <td>Tottenham Hotspur Stadium</td>\n      <td>62850</td>\n      <td>€-93.55m</td>\n      <td>NaN</td>\n      <td>2024</td>\n      <td>../data/raw/transfermarkt-scraper/2024/clubs.j...</td>\n      <td>https://www.transfermarkt.co.uk/tottenham-hots...</td>\n    </tr>\n  </tbody>\n</table>\n</div>"
     },
     "execution_count": 10,
     "metadata": {},
     "output_type": "execute_result"
    }
   ],
   "source": [
    "clubs_df.head(5)"
   ]
  },
  {
   "cell_type": "code",
   "execution_count": 12,
   "metadata": {
    "ExecuteTime": {
     "end_time": "2024-09-25T04:52:54.881562Z",
     "start_time": "2024-09-25T04:52:54.858167Z"
    }
   },
   "outputs": [
    {
     "data": {
      "text/plain": "    club_id     club_code          name domestic_competition_id  \\\n44       31  fc-liverpool  Liverpool FC                     GB1   \n\n    total_market_value  squad_size  average_age  foreigners_number  \\\n44                 NaN          27         25.2                 21   \n\n    foreigners_percentage  national_team_players stadium_name  stadium_seats  \\\n44                   77.8                     22      Anfield          60725   \n\n   net_transfer_record  coach_name  last_season  \\\n44             +€5.00m         NaN         2023   \n\n                                             filename  \\\n44  ../data/raw/transfermarkt-scraper/2023/clubs.j...   \n\n                                                  url  \n44  https://www.transfermarkt.co.uk/fc-liverpool/s...  ",
      "text/html": "<div>\n<style scoped>\n    .dataframe tbody tr th:only-of-type {\n        vertical-align: middle;\n    }\n\n    .dataframe tbody tr th {\n        vertical-align: top;\n    }\n\n    .dataframe thead th {\n        text-align: right;\n    }\n</style>\n<table border=\"1\" class=\"dataframe\">\n  <thead>\n    <tr style=\"text-align: right;\">\n      <th></th>\n      <th>club_id</th>\n      <th>club_code</th>\n      <th>name</th>\n      <th>domestic_competition_id</th>\n      <th>total_market_value</th>\n      <th>squad_size</th>\n      <th>average_age</th>\n      <th>foreigners_number</th>\n      <th>foreigners_percentage</th>\n      <th>national_team_players</th>\n      <th>stadium_name</th>\n      <th>stadium_seats</th>\n      <th>net_transfer_record</th>\n      <th>coach_name</th>\n      <th>last_season</th>\n      <th>filename</th>\n      <th>url</th>\n    </tr>\n  </thead>\n  <tbody>\n    <tr>\n      <th>44</th>\n      <td>31</td>\n      <td>fc-liverpool</td>\n      <td>Liverpool FC</td>\n      <td>GB1</td>\n      <td>NaN</td>\n      <td>27</td>\n      <td>25.2</td>\n      <td>21</td>\n      <td>77.8</td>\n      <td>22</td>\n      <td>Anfield</td>\n      <td>60725</td>\n      <td>+€5.00m</td>\n      <td>NaN</td>\n      <td>2023</td>\n      <td>../data/raw/transfermarkt-scraper/2023/clubs.j...</td>\n      <td>https://www.transfermarkt.co.uk/fc-liverpool/s...</td>\n    </tr>\n  </tbody>\n</table>\n</div>"
     },
     "execution_count": 12,
     "metadata": {},
     "output_type": "execute_result"
    }
   ],
   "source": [
    "# Matching name\n",
    "clubs_df[clubs_df['name'].str.contains('Liverpool')]"
   ]
  },
  {
   "cell_type": "code",
   "execution_count": 43,
   "metadata": {},
   "outputs": [
    {
     "data": {
      "text/html": [
       "<div>\n",
       "<style scoped>\n",
       "    .dataframe tbody tr th:only-of-type {\n",
       "        vertical-align: middle;\n",
       "    }\n",
       "\n",
       "    .dataframe tbody tr th {\n",
       "        vertical-align: top;\n",
       "    }\n",
       "\n",
       "    .dataframe thead th {\n",
       "        text-align: right;\n",
       "    }\n",
       "</style>\n",
       "<table border=\"1\" class=\"dataframe\">\n",
       "  <thead>\n",
       "    <tr style=\"text-align: right;\">\n",
       "      <th></th>\n",
       "      <th>rank</th>\n",
       "      <th>name</th>\n",
       "      <th>country</th>\n",
       "      <th>level</th>\n",
       "      <th>elo</th>\n",
       "      <th>from</th>\n",
       "      <th>to</th>\n",
       "      <th>updated</th>\n",
       "      <th>club_id</th>\n",
       "    </tr>\n",
       "  </thead>\n",
       "  <tbody>\n",
       "    <tr>\n",
       "      <th>0</th>\n",
       "      <td>1</td>\n",
       "      <td>Liverpool</td>\n",
       "      <td>ENG</td>\n",
       "      <td>1</td>\n",
       "      <td>2088.261963</td>\n",
       "      <td>2020-01-30</td>\n",
       "      <td>2020-02-01</td>\n",
       "      <td>2020-01-31</td>\n",
       "      <td>-1</td>\n",
       "    </tr>\n",
       "    <tr>\n",
       "      <th>1</th>\n",
       "      <td>2</td>\n",
       "      <td>Man City</td>\n",
       "      <td>ENG</td>\n",
       "      <td>1</td>\n",
       "      <td>2002.820190</td>\n",
       "      <td>2020-01-22</td>\n",
       "      <td>2020-02-02</td>\n",
       "      <td>2020-01-31</td>\n",
       "      <td>-1</td>\n",
       "    </tr>\n",
       "    <tr>\n",
       "      <th>2</th>\n",
       "      <td>3</td>\n",
       "      <td>Barcelona</td>\n",
       "      <td>ESP</td>\n",
       "      <td>1</td>\n",
       "      <td>1964.985352</td>\n",
       "      <td>2020-01-26</td>\n",
       "      <td>2020-02-02</td>\n",
       "      <td>2020-01-31</td>\n",
       "      <td>-1</td>\n",
       "    </tr>\n",
       "    <tr>\n",
       "      <th>3</th>\n",
       "      <td>4</td>\n",
       "      <td>Bayern</td>\n",
       "      <td>GER</td>\n",
       "      <td>1</td>\n",
       "      <td>1951.214600</td>\n",
       "      <td>2020-01-26</td>\n",
       "      <td>2020-02-01</td>\n",
       "      <td>2020-01-31</td>\n",
       "      <td>-1</td>\n",
       "    </tr>\n",
       "    <tr>\n",
       "      <th>4</th>\n",
       "      <td>5</td>\n",
       "      <td>Juventus</td>\n",
       "      <td>ITA</td>\n",
       "      <td>1</td>\n",
       "      <td>1908.358643</td>\n",
       "      <td>2020-01-27</td>\n",
       "      <td>2020-02-02</td>\n",
       "      <td>2020-01-31</td>\n",
       "      <td>-1</td>\n",
       "    </tr>\n",
       "  </tbody>\n",
       "</table>\n",
       "</div>"
      ],
      "text/plain": [
       "   rank       name country  level          elo        from          to  \\\n",
       "0     1  Liverpool     ENG      1  2088.261963  2020-01-30  2020-02-01   \n",
       "1     2   Man City     ENG      1  2002.820190  2020-01-22  2020-02-02   \n",
       "2     3  Barcelona     ESP      1  1964.985352  2020-01-26  2020-02-02   \n",
       "3     4     Bayern     GER      1  1951.214600  2020-01-26  2020-02-01   \n",
       "4     5   Juventus     ITA      1  1908.358643  2020-01-27  2020-02-02   \n",
       "\n",
       "      updated  club_id  \n",
       "0  2020-01-31       -1  \n",
       "1  2020-01-31       -1  \n",
       "2  2020-01-31       -1  \n",
       "3  2020-01-31       -1  \n",
       "4  2020-01-31       -1  "
      ]
     },
     "execution_count": 43,
     "metadata": {},
     "output_type": "execute_result"
    }
   ],
   "source": [
    "#"
   ]
  },
  {
   "cell_type": "code",
   "execution_count": 33,
   "metadata": {},
   "outputs": [
    {
     "data": {
      "text/plain": [
       "['rank', 'club', 'country', 'level', 'elo', 'from', 'to', 'updated']"
      ]
     },
     "execution_count": 33,
     "metadata": {},
     "output_type": "execute_result"
    }
   ],
   "source": []
  },
  {
   "cell_type": "code",
   "execution_count": null,
   "metadata": {},
   "outputs": [],
   "source": [
    "\n",
    "# NOTE: This wont work for jupyter so we are using sth else for now\n",
    "# # Get the absolute path of the current script (jupyter dir)\n",
    "# BASE_DIR = Path(__file__).resolve().parent\n",
    "\n",
    "# # Build the path to the data directory\n",
    "# DATA_DIR = BASE_DIR / 'data'\n",
    "BASE_DIR = Path.cwd()\n",
    "\n",
    "# Build the path to the data directory\n",
    "DATA_DIR = BASE_DIR.parents[0] / 'transfer_data' \n",
    "\n",
    "res.to_csv(DATA_DIR / 'club_elos.csv')"
   ]
  }
 ],
 "metadata": {
  "kernelspec": {
   "display_name": "footy",
   "language": "python",
   "name": "python3"
  },
  "language_info": {
   "codemirror_mode": {
    "name": "ipython",
    "version": 3
   },
   "file_extension": ".py",
   "mimetype": "text/x-python",
   "name": "python",
   "nbconvert_exporter": "python",
   "pygments_lexer": "ipython3",
   "version": "3.12.4"
  }
 },
 "nbformat": 4,
 "nbformat_minor": 2
}
